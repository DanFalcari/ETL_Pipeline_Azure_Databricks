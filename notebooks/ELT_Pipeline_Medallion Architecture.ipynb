{
 "cells": [
  {
   "cell_type": "code",
   "execution_count": 0,
   "metadata": {
    "application/vnd.databricks.v1+cell": {
     "cellMetadata": {
      "byteLimit": 2048000,
      "rowLimit": 10000
     },
     "inputWidgets": {},
     "nuid": "330f06e6-42b7-4ccf-96c0-3c037338c7d8",
     "showTitle": false,
     "tableResultSettingsMap": {},
     "title": ""
    }
   },
   "outputs": [],
   "source": [
    "storage_key = dbutils.secrets.get(scope=\"SecretsAzure\", key=\"blobStorageKey\")"
   ]
  },
  {
   "cell_type": "code",
   "execution_count": 0,
   "metadata": {
    "application/vnd.databricks.v1+cell": {
     "cellMetadata": {
      "byteLimit": 2048000,
      "rowLimit": 10000
     },
     "inputWidgets": {},
     "nuid": "d7d99f32-7a34-40cf-8545-367de8f0ebc6",
     "showTitle": false,
     "tableResultSettingsMap": {},
     "title": ""
    }
   },
   "outputs": [
    {
     "output_type": "execute_result",
     "data": {
      "text/plain": [
       "True"
      ]
     },
     "execution_count": 2,
     "metadata": {},
     "output_type": "execute_result"
    }
   ],
   "source": [
    " # Montando a camada bronze da Azure\n",
    " dbutils.fs.mount(\n",
    "     source = \"wasbs://bronze@falcaristorage.blob.core.windows.net/\", \n",
    "     mount_point = \"/mnt/falcaristorage/bronze\",\n",
    "     extra_configs = {\"fs.azure.account.key.falcaristorage.blob.core.windows.net\":storage_key}\n",
    " )"
   ]
  },
  {
   "cell_type": "code",
   "execution_count": 0,
   "metadata": {
    "application/vnd.databricks.v1+cell": {
     "cellMetadata": {
      "byteLimit": 2048000,
      "rowLimit": 10000
     },
     "inputWidgets": {},
     "nuid": "9dd9b0f4-f1dd-44da-810b-92cf605f9a91",
     "showTitle": false,
     "tableResultSettingsMap": {},
     "title": ""
    }
   },
   "outputs": [
    {
     "output_type": "execute_result",
     "data": {
      "text/plain": [
       "True"
      ]
     },
     "execution_count": 3,
     "metadata": {},
     "output_type": "execute_result"
    }
   ],
   "source": [
    " # Montando a camada silver da Azure\n",
    " dbutils.fs.mount(\n",
    "     source = \"wasbs://silver@falcaristorage.blob.core.windows.net/\", \n",
    "     mount_point = \"/mnt/falcaristorage/silver\",\n",
    "     extra_configs = {\"fs.azure.account.key.falcaristorage.blob.core.windows.net\":storage_key}\n",
    " )"
   ]
  },
  {
   "cell_type": "code",
   "execution_count": 0,
   "metadata": {
    "application/vnd.databricks.v1+cell": {
     "cellMetadata": {
      "byteLimit": 2048000,
      "rowLimit": 10000
     },
     "inputWidgets": {},
     "nuid": "507a732f-3420-4a8f-98bb-7e7dd6e90986",
     "showTitle": false,
     "tableResultSettingsMap": {},
     "title": ""
    }
   },
   "outputs": [
    {
     "output_type": "execute_result",
     "data": {
      "text/plain": [
       "True"
      ]
     },
     "execution_count": 4,
     "metadata": {},
     "output_type": "execute_result"
    }
   ],
   "source": [
    " # Montando a camada gold da Azure\n",
    " dbutils.fs.mount(\n",
    "     source = \"wasbs://gold@falcaristorage.blob.core.windows.net/\", \n",
    "     mount_point = \"/mnt/falcaristorage/gold\",\n",
    "     extra_configs = {\"fs.azure.account.key.falcaristorage.blob.core.windows.net\":storage_key}\n",
    " )"
   ]
  },
  {
   "cell_type": "code",
   "execution_count": 0,
   "metadata": {
    "application/vnd.databricks.v1+cell": {
     "cellMetadata": {
      "byteLimit": 2048000,
      "rowLimit": 10000
     },
     "inputWidgets": {},
     "nuid": "f3fa168e-4f7d-4708-b5df-9e875f13c661",
     "showTitle": false,
     "tableResultSettingsMap": {},
     "title": ""
    }
   },
   "outputs": [],
   "source": [
    "# ler arquivo csv da camada bronze\n",
    "df_sales_bronze = spark.read.format('csv').options(header='true', inferSchema='true', delimiter=';').load(\"dbfs:/mnt/falcaristorage/bronze/sales.csv\")"
   ]
  },
  {
   "cell_type": "code",
   "execution_count": 0,
   "metadata": {
    "application/vnd.databricks.v1+cell": {
     "cellMetadata": {
      "byteLimit": 2048000,
      "rowLimit": 10000
     },
     "inputWidgets": {},
     "nuid": "24713173-9770-41e4-852d-1cfd4cd194c3",
     "showTitle": false,
     "tableResultSettingsMap": {},
     "title": ""
    }
   },
   "outputs": [
    {
     "output_type": "stream",
     "name": "stdout",
     "output_type": "stream",
     "text": [
      "+--------+------------+-----------------+--------------------+----------+----------+-----+-----------+\n|id_venda|id_comprador|             Nome|              e-mail|id_produto|quantidade|valor|data_compra|\n+--------+------------+-----------------+--------------------+----------+----------+-----+-----------+\n|       1|          89|    Maria Pereira|maria.pereira@gma...|        27|         7|48.41| 2023-07-06|\n|       2|          13|      Rafael Lima|rafael.lima@yahoo...|        42|         6|46.64| 2023-10-01|\n|       3|          34|      Pedro Silva|pedro.silva@yahoo...|         7|         4|18.37| 2023-03-01|\n|       4|          95|  Gabriel Pereira|gabriel.pereira@h...|        14|         6|29.56| 2023-04-23|\n|       5|          41| Gabriel Oliveira|gabriel.oliveira@...|        50|         5|65.08| 2023-04-15|\n|       6|          55|       João Silva|joão.silva@outloo...|         9|         9|74.88| 2023-07-07|\n|       7|           6|      Julia Alves|julia.alves@outlo...|        17|         1|79.81| 2023-11-20|\n|       8|          19|   Paula Oliveira|paula.oliveira@ho...|         9|         2|14.62| 2023-04-18|\n|       9|          96|      Lucas Silva|lucas.silva@hotma...|        30|         7|59.34| 2023-08-12|\n|      10|          43|        Ana Alves|ana.alves@outlook...|        10|         3|82.98| 2023-07-09|\n|      11|          21|    Julia Pereira|julia.pereira@out...|        18|        10|59.85| 2023-03-02|\n|      12|          92|     Ana Oliveira|ana.oliveira@yaho...|        14|         7|59.59| 2023-04-27|\n|      13|          39|    Gabriel Gomes|gabriel.gomes@yah...|        21|         4|90.53| 2023-11-22|\n|      14|          66|      Carla Alves|carla.alves@gmail...|        50|         8|70.47| 2023-04-26|\n|      15|          93|      Ana Pereira|ana.pereira@gmail...|        41|         8|82.16| 2023-01-11|\n|      16|          94|  Carla Rodrigues|carla.rodrigues@y...|         6|         3| 87.4| 2023-05-14|\n|      17|          70|  Carla Rodrigues|carla.rodrigues@y...|        17|         6|36.43| 2023-06-27|\n|      18|          47|       Pedro Lima|pedro.lima@gmail.com|         6|         1|28.57| 2023-01-24|\n|      19|          62|    Gabriel Silva|gabriel.silva@hot...|         4|         3|84.65| 2023-06-04|\n|      20|          97|Gabriel Rodrigues|gabriel.rodrigues...|        10|         4|91.57| 2023-05-25|\n+--------+------------+-----------------+--------------------+----------+----------+-----+-----------+\nonly showing top 20 rows\n"
     ]
    }
   ],
   "source": [
    "# Visualizando o DataFrame\n",
    "df_sales_bronze.show()"
   ]
  },
  {
   "cell_type": "code",
   "execution_count": 0,
   "metadata": {
    "application/vnd.databricks.v1+cell": {
     "cellMetadata": {
      "byteLimit": 2048000,
      "rowLimit": 10000
     },
     "inputWidgets": {},
     "nuid": "8c1dfb2f-9bca-47d5-9d5a-831e6380c3c3",
     "showTitle": false,
     "tableResultSettingsMap": {},
     "title": ""
    }
   },
   "outputs": [],
   "source": [
    "# Importações \n",
    "from pyspark.sql.functions import lower, regexp_replace, to_date, format_number, year, month, avg, sum"
   ]
  },
  {
   "cell_type": "code",
   "execution_count": 0,
   "metadata": {
    "application/vnd.databricks.v1+cell": {
     "cellMetadata": {
      "byteLimit": 2048000,
      "rowLimit": 10000
     },
     "inputWidgets": {},
     "nuid": "b1f0cb62-467b-426e-958e-5954139471c2",
     "showTitle": false,
     "tableResultSettingsMap": {},
     "title": ""
    }
   },
   "outputs": [],
   "source": [
    "# LIMPEZA DE DADOS\n",
    "# Padronizar formato de email\n",
    "df_sales_silver = df_sales_bronze.withColumn('e-mail', lower(regexp_replace('e-mail', '[^a-zA-Z0-9@.]', '')))\n",
    "\n",
    "# removendo duplicatas  \n",
    "df_sales_silver = df_sales_silver.dropDuplicates()"
   ]
  },
  {
   "cell_type": "code",
   "execution_count": 0,
   "metadata": {
    "application/vnd.databricks.v1+cell": {
     "cellMetadata": {
      "byteLimit": 2048000,
      "rowLimit": 10000
     },
     "inputWidgets": {},
     "nuid": "0a726fd9-e87c-4c6a-a41a-2b6f68d874bc",
     "showTitle": false,
     "tableResultSettingsMap": {},
     "title": ""
    }
   },
   "outputs": [],
   "source": [
    "# carregando a tabela de categorias de produtos (arquivo csv)\n",
    "df_categories = spark.read.csv(\"dbfs:/mnt/falcaristorage/bronze/categories.csv\", header=True, inferSchema=True)\n",
    "\n",
    "# Enriquecer os dados com a categoria do produto \n",
    "df_sales_silver_enriched  = df_sales_silver.join(df_categories, \"id_produto\", \"left\")"
   ]
  },
  {
   "cell_type": "code",
   "execution_count": 0,
   "metadata": {
    "application/vnd.databricks.v1+cell": {
     "cellMetadata": {
      "byteLimit": 2048000,
      "rowLimit": 10000
     },
     "inputWidgets": {},
     "nuid": "7bdfa015-eccb-4772-94b8-1e71b55e533c",
     "showTitle": false,
     "tableResultSettingsMap": {},
     "title": ""
    }
   },
   "outputs": [
    {
     "output_type": "stream",
     "name": "stdout",
     "output_type": "stream",
     "text": [
      "+----------+--------+------------+-----------------+--------------------+----------+-----+-----------+-----------+\n|id_produto|id_venda|id_comprador|             Nome|              e-mail|quantidade|valor|data_compra|  categoria|\n+----------+--------+------------+-----------------+--------------------+----------+-----+-----------+-----------+\n|        42|       2|          13|      Rafael Lima|rafael.lima@yahoo...|         6|46.64| 2023-10-01|  Vestuário|\n|         6|      18|          47|       Pedro Lima|pedro.lima@gmail.com|         1|28.57| 2023-01-24|Eletrônicos|\n|        14|      12|          92|     Ana Oliveira|ana.oliveira@yaho...|         7|59.59| 2023-04-27|     Móveis|\n|        41|      15|          93|      Ana Pereira|ana.pereira@gmail...|         8|82.16| 2023-01-11|Eletrônicos|\n|         9|       6|          55|       João Silva|joo.silva@outlook...|         9|74.88| 2023-07-07|     Móveis|\n|        18|      11|          21|    Julia Pereira|julia.pereira@out...|        10|59.85| 2023-03-02|  Alimentos|\n|         7|       3|          34|      Pedro Silva|pedro.silva@yahoo...|         4|18.37| 2023-03-01|  Vestuário|\n|        14|       4|          95|  Gabriel Pereira|gabriel.pereira@h...|         6|29.56| 2023-04-23|     Móveis|\n|        30|       9|          96|      Lucas Silva|lucas.silva@hotma...|         7|59.34| 2023-08-12|     Livros|\n|         9|       8|          19|   Paula Oliveira|paula.oliveira@ho...|         2|14.62| 2023-04-18|     Móveis|\n|        10|      10|          43|        Ana Alves|ana.alves@outlook...|         3|82.98| 2023-07-09|     Livros|\n|        17|      17|          70|  Carla Rodrigues|carla.rodrigues@y...|         6|36.43| 2023-06-27|  Vestuário|\n|        10|      20|          97|Gabriel Rodrigues|gabriel.rodrigues...|         4|91.57| 2023-05-25|     Livros|\n|        23|      21|           5|    Rafael Santos|rafael.santos@hot...|         1|44.27| 2023-05-11|  Alimentos|\n|        50|      14|          66|      Carla Alves|carla.alves@gmail...|         8|70.47| 2023-04-26|     Livros|\n|        17|       7|           6|      Julia Alves|julia.alves@outlo...|         1|79.81| 2023-11-20|  Vestuário|\n|         4|      19|          62|    Gabriel Silva|gabriel.silva@hot...|         3|84.65| 2023-06-04|     Móveis|\n|        21|      13|          39|    Gabriel Gomes|gabriel.gomes@yah...|         4|90.53| 2023-11-22|Eletrônicos|\n|         6|      16|          94|  Carla Rodrigues|carla.rodrigues@y...|         3| 87.4| 2023-05-14|Eletrônicos|\n|        50|       5|          41| Gabriel Oliveira|gabriel.oliveira@...|         5|65.08| 2023-04-15|     Livros|\n+----------+--------+------------+-----------------+--------------------+----------+-----+-----------+-----------+\nonly showing top 20 rows\n"
     ]
    }
   ],
   "source": [
    "# visualizando o dataframe\n",
    "df_sales_silver_enriched.show()"
   ]
  },
  {
   "cell_type": "code",
   "execution_count": 0,
   "metadata": {
    "application/vnd.databricks.v1+cell": {
     "cellMetadata": {
      "byteLimit": 2048000,
      "rowLimit": 10000
     },
     "inputWidgets": {},
     "nuid": "e2990fb5-1f5f-4532-a092-fb17da8500ed",
     "showTitle": false,
     "tableResultSettingsMap": {},
     "title": ""
    }
   },
   "outputs": [],
   "source": [
    "# salvando os dados na camada silver dentro do conteiner criado na azure\n",
    "df_sales_silver_enriched.write.format(\"parquet\").save(\"dbfs:/mnt/falcaristorage/silver/sales.csv\") "
   ]
  },
  {
   "cell_type": "code",
   "execution_count": 0,
   "metadata": {
    "application/vnd.databricks.v1+cell": {
     "cellMetadata": {
      "byteLimit": 2048000,
      "rowLimit": 10000
     },
     "inputWidgets": {},
     "nuid": "7f609247-9229-4be6-8f9a-b51a3001f228",
     "showTitle": false,
     "tableResultSettingsMap": {},
     "title": ""
    }
   },
   "outputs": [],
   "source": [
    "# Salvando os dados no formato delta \n",
    "df_sales_silver_enriched.write.format(\"delta\").mode('overwrite').save(\"dbfs:/mnt/falcaristorage/silver/sales_clean.csv\")"
   ]
  },
  {
   "cell_type": "code",
   "execution_count": 0,
   "metadata": {
    "application/vnd.databricks.v1+cell": {
     "cellMetadata": {
      "byteLimit": 2048000,
      "rowLimit": 10000
     },
     "inputWidgets": {},
     "nuid": "59c79e6c-8215-4c80-8b8a-54729d109f5c",
     "showTitle": false,
     "tableResultSettingsMap": {},
     "title": ""
    }
   },
   "outputs": [
    {
     "output_type": "execute_result",
     "data": {
      "text/plain": [
       "DataFrame[]"
      ]
     },
     "execution_count": 18,
     "metadata": {},
     "output_type": "execute_result"
    }
   ],
   "source": [
    "# criando uma tabela com spark sql para acessar os dados da camada silver\n",
    "spark.sql(\"\"\"\n",
    "    CREATE TABLE IF NOT EXISTS sales_clean\n",
    "    USING DELTA \n",
    "    LOCATION '/mnt/falcaristorage/silver/sales_clean.csv'\n",
    "\"\"\")"
   ]
  },
  {
   "cell_type": "code",
   "execution_count": 0,
   "metadata": {
    "application/vnd.databricks.v1+cell": {
     "cellMetadata": {
      "byteLimit": 2048000,
      "rowLimit": 10000
     },
     "inputWidgets": {},
     "nuid": "359414d8-21c5-4b5d-94e2-73756f97400d",
     "showTitle": false,
     "tableResultSettingsMap": {},
     "title": ""
    }
   },
   "outputs": [
    {
     "output_type": "display_data",
     "data": {
      "text/html": [
       "<style scoped>\n",
       "  .table-result-container {\n",
       "    max-height: 300px;\n",
       "    overflow: auto;\n",
       "  }\n",
       "  table, th, td {\n",
       "    border: 1px solid black;\n",
       "    border-collapse: collapse;\n",
       "  }\n",
       "  th, td {\n",
       "    padding: 5px;\n",
       "  }\n",
       "  th {\n",
       "    text-align: left;\n",
       "  }\n",
       "</style><div class='table-result-container'><table class='table-result'><thead style='background-color: white'><tr><th>id_produto</th><th>id_venda</th><th>id_comprador</th><th>Nome</th><th>e-mail</th><th>quantidade</th><th>valor</th><th>data_compra</th><th>categoria</th></tr></thead><tbody><tr><td>33</td><td>71</td><td>39</td><td>Ana Alves</td><td>ana.alves@yahoo.com</td><td>5</td><td>16.39</td><td>2023-10-26</td><td>Alimentos</td></tr><tr><td>34</td><td>82</td><td>93</td><td>Pedro Gomes</td><td>pedro.gomes@hotmail.com</td><td>3</td><td>32.69</td><td>2023-05-27</td><td>Móveis</td></tr><tr><td>17</td><td>100</td><td>83</td><td>Maria Lima</td><td>maria.lima@outlook.com</td><td>5</td><td>21.2</td><td>2023-10-23</td><td>Vestuário</td></tr><tr><td>15</td><td>181</td><td>7</td><td>Maria Fernandes</td><td>maria.fernandes@gmail.com</td><td>6</td><td>71.33</td><td>2023-07-17</td><td>Livros</td></tr><tr><td>4</td><td>110</td><td>60</td><td>Maria Souza</td><td>maria.souza@yahoo.com</td><td>6</td><td>90.21</td><td>2023-07-02</td><td>Móveis</td></tr><tr><td>16</td><td>175</td><td>6</td><td>Rafael Oliveira</td><td>rafael.oliveira@yahoo.com</td><td>9</td><td>44.75</td><td>2023-04-28</td><td>Eletrônicos</td></tr><tr><td>45</td><td>150</td><td>97</td><td>Pedro Santos</td><td>pedro.santos@hotmail.com</td><td>10</td><td>65.21</td><td>2023-01-06</td><td>Livros</td></tr><tr><td>3</td><td>132</td><td>12</td><td>Julia Santos</td><td>julia.santos@gmail.com</td><td>2</td><td>69.89</td><td>2023-01-03</td><td>Alimentos</td></tr><tr><td>23</td><td>101</td><td>95</td><td>João Alves</td><td>joo.alves@yahoo.com</td><td>2</td><td>79.25</td><td>2023-06-22</td><td>Alimentos</td></tr><tr><td>32</td><td>168</td><td>92</td><td>Pedro Gomes</td><td>pedro.gomes@gmail.com</td><td>6</td><td>41.69</td><td>2023-05-18</td><td>Vestuário</td></tr><tr><td>4</td><td>93</td><td>91</td><td>Gabriel Gomes</td><td>gabriel.gomes@yahoo.com</td><td>9</td><td>11.4</td><td>2023-01-26</td><td>Móveis</td></tr><tr><td>9</td><td>35</td><td>2</td><td>Lucas Pereira</td><td>lucas.pereira@yahoo.com</td><td>3</td><td>95.43</td><td>2023-06-17</td><td>Móveis</td></tr><tr><td>17</td><td>23</td><td>84</td><td>Carla Lima</td><td>carla.lima@hotmail.com</td><td>10</td><td>17.79</td><td>2023-12-10</td><td>Vestuário</td></tr><tr><td>11</td><td>33</td><td>3</td><td>Maria Rodrigues</td><td>maria.rodrigues@hotmail.com</td><td>4</td><td>78.48</td><td>2023-07-28</td><td>Eletrônicos</td></tr><tr><td>50</td><td>74</td><td>35</td><td>Carla Souza</td><td>carla.souza@hotmail.com</td><td>9</td><td>68.62</td><td>2023-03-21</td><td>Livros</td></tr><tr><td>18</td><td>94</td><td>62</td><td>Pedro Gomes</td><td>pedro.gomes@outlook.com</td><td>5</td><td>25.4</td><td>2023-06-13</td><td>Alimentos</td></tr><tr><td>3</td><td>96</td><td>86</td><td>Rafael Alves</td><td>rafael.alves@gmail.com</td><td>4</td><td>53.18</td><td>2023-10-09</td><td>Alimentos</td></tr><tr><td>24</td><td>60</td><td>54</td><td>Gabriel Gomes</td><td>gabriel.gomes@gmail.com</td><td>6</td><td>12.45</td><td>2023-05-15</td><td>Móveis</td></tr><tr><td>42</td><td>2</td><td>13</td><td>Rafael Lima</td><td>rafael.lima@yahoo.com</td><td>6</td><td>46.64</td><td>2023-10-01</td><td>Vestuário</td></tr><tr><td>6</td><td>18</td><td>47</td><td>Pedro Lima</td><td>pedro.lima@gmail.com</td><td>1</td><td>28.57</td><td>2023-01-24</td><td>Eletrônicos</td></tr><tr><td>8</td><td>103</td><td>46</td><td>Paula Rodrigues</td><td>paula.rodrigues@hotmail.com</td><td>2</td><td>41.89</td><td>2023-11-05</td><td>Alimentos</td></tr><tr><td>14</td><td>12</td><td>92</td><td>Ana Oliveira</td><td>ana.oliveira@yahoo.com</td><td>7</td><td>59.59</td><td>2023-04-27</td><td>Móveis</td></tr><tr><td>2</td><td>55</td><td>28</td><td>Carla Fernandes</td><td>carla.fernandes@yahoo.com</td><td>1</td><td>29.77</td><td>2023-09-27</td><td>Vestuário</td></tr><tr><td>12</td><td>111</td><td>83</td><td>Paula Lima</td><td>paula.lima@gmail.com</td><td>5</td><td>69.88</td><td>2023-04-04</td><td>Vestuário</td></tr><tr><td>41</td><td>15</td><td>93</td><td>Ana Pereira</td><td>ana.pereira@gmail.com</td><td>8</td><td>82.16</td><td>2023-01-11</td><td>Eletrônicos</td></tr><tr><td>20</td><td>69</td><td>34</td><td>João Santos</td><td>joo.santos@gmail.com</td><td>6</td><td>24.44</td><td>2023-04-16</td><td>Livros</td></tr><tr><td>9</td><td>6</td><td>55</td><td>João Silva</td><td>joo.silva@outlook.com</td><td>9</td><td>74.88</td><td>2023-07-07</td><td>Móveis</td></tr><tr><td>36</td><td>185</td><td>19</td><td>Paula Rodrigues</td><td>paula.rodrigues@hotmail.com</td><td>4</td><td>85.4</td><td>2023-01-27</td><td>Eletrônicos</td></tr><tr><td>34</td><td>118</td><td>68</td><td>Gabriel Pereira</td><td>gabriel.pereira@yahoo.com</td><td>8</td><td>32.15</td><td>2023-02-21</td><td>Móveis</td></tr><tr><td>3</td><td>149</td><td>14</td><td>Lucas Lima</td><td>lucas.lima@gmail.com</td><td>9</td><td>98.84</td><td>2023-11-11</td><td>Alimentos</td></tr><tr><td>34</td><td>176</td><td>85</td><td>João Lima</td><td>joo.lima@yahoo.com</td><td>8</td><td>90.39</td><td>2023-05-07</td><td>Móveis</td></tr><tr><td>13</td><td>59</td><td>48</td><td>Julia Lima</td><td>julia.lima@yahoo.com</td><td>7</td><td>67.79</td><td>2023-10-02</td><td>Alimentos</td></tr><tr><td>15</td><td>177</td><td>52</td><td>João Silva</td><td>joo.silva@yahoo.com</td><td>5</td><td>90.82</td><td>2023-03-12</td><td>Livros</td></tr><tr><td>31</td><td>186</td><td>8</td><td>Ana Pereira</td><td>ana.pereira@yahoo.com</td><td>9</td><td>88.44</td><td>2023-08-26</td><td>Eletrônicos</td></tr><tr><td>35</td><td>58</td><td>13</td><td>Gabriel Fernandes</td><td>gabriel.fernandes@gmail.com</td><td>1</td><td>69.34</td><td>2023-10-10</td><td>Livros</td></tr><tr><td>32</td><td>114</td><td>17</td><td>Pedro Silva</td><td>pedro.silva@gmail.com</td><td>9</td><td>94.88</td><td>2023-08-06</td><td>Vestuário</td></tr><tr><td>13</td><td>98</td><td>42</td><td>Carla Rodrigues</td><td>carla.rodrigues@gmail.com</td><td>2</td><td>46.45</td><td>2023-12-03</td><td>Alimentos</td></tr><tr><td>1</td><td>139</td><td>98</td><td>Paula Fernandes</td><td>paula.fernandes@outlook.com</td><td>3</td><td>99.98</td><td>2023-12-03</td><td>Eletrônicos</td></tr><tr><td>32</td><td>109</td><td>71</td><td>Lucas Alves</td><td>lucas.alves@yahoo.com</td><td>9</td><td>90.48</td><td>2023-02-10</td><td>Vestuário</td></tr><tr><td>11</td><td>72</td><td>2</td><td>Lucas Oliveira</td><td>lucas.oliveira@hotmail.com</td><td>4</td><td>81.28</td><td>2023-11-18</td><td>Eletrônicos</td></tr><tr><td>11</td><td>174</td><td>50</td><td>Maria Alves</td><td>maria.alves@hotmail.com</td><td>7</td><td>52.34</td><td>2023-05-19</td><td>Eletrônicos</td></tr><tr><td>26</td><td>200</td><td>33</td><td>Lucas Santos</td><td>lucas.santos@gmail.com</td><td>8</td><td>73.32</td><td>2023-11-22</td><td>Eletrônicos</td></tr><tr><td>19</td><td>87</td><td>63</td><td>Gabriel Gomes</td><td>gabriel.gomes@gmail.com</td><td>8</td><td>84.75</td><td>2023-04-14</td><td>Móveis</td></tr><tr><td>23</td><td>106</td><td>41</td><td>Rafael Fernandes</td><td>rafael.fernandes@outlook.com</td><td>2</td><td>10.76</td><td>2023-12-14</td><td>Alimentos</td></tr><tr><td>28</td><td>126</td><td>41</td><td>Ana Gomes</td><td>ana.gomes@yahoo.com</td><td>7</td><td>15.21</td><td>2023-04-11</td><td>Alimentos</td></tr><tr><td>41</td><td>190</td><td>34</td><td>João Pereira</td><td>joo.pereira@gmail.com</td><td>8</td><td>71.53</td><td>2023-03-16</td><td>Eletrônicos</td></tr><tr><td>21</td><td>53</td><td>17</td><td>Ana Souza</td><td>ana.souza@hotmail.com</td><td>5</td><td>93.21</td><td>2023-10-08</td><td>Eletrônicos</td></tr><tr><td>1</td><td>46</td><td>72</td><td>Julia Souza</td><td>julia.souza@hotmail.com</td><td>3</td><td>39.7</td><td>2023-06-16</td><td>Eletrônicos</td></tr><tr><td>25</td><td>51</td><td>49</td><td>Pedro Lima</td><td>pedro.lima@yahoo.com</td><td>2</td><td>67.21</td><td>2023-07-09</td><td>Livros</td></tr><tr><td>32</td><td>65</td><td>73</td><td>Lucas Rodrigues</td><td>lucas.rodrigues@outlook.com</td><td>7</td><td>17.02</td><td>2023-06-14</td><td>Vestuário</td></tr><tr><td>18</td><td>85</td><td>23</td><td>Pedro Fernandes</td><td>pedro.fernandes@outlook.com</td><td>5</td><td>10.49</td><td>2023-02-19</td><td>Alimentos</td></tr><tr><td>30</td><td>47</td><td>36</td><td>Gabriel Silva</td><td>gabriel.silva@yahoo.com</td><td>1</td><td>40.21</td><td>2023-12-03</td><td>Livros</td></tr><tr><td>36</td><td>141</td><td>83</td><td>Maria Pereira</td><td>maria.pereira@yahoo.com</td><td>7</td><td>41.4</td><td>2023-11-07</td><td>Eletrônicos</td></tr><tr><td>50</td><td>184</td><td>46</td><td>Lucas Lima</td><td>lucas.lima@yahoo.com</td><td>9</td><td>14.94</td><td>2023-09-09</td><td>Livros</td></tr><tr><td>34</td><td>37</td><td>81</td><td>João Alves</td><td>joo.alves@outlook.com</td><td>1</td><td>47.15</td><td>2023-11-21</td><td>Móveis</td></tr><tr><td>15</td><td>172</td><td>24</td><td>Gabriel Oliveira</td><td>gabriel.oliveira@outlook.com</td><td>1</td><td>40.64</td><td>2023-09-11</td><td>Livros</td></tr><tr><td>26</td><td>24</td><td>73</td><td>Lucas Fernandes</td><td>lucas.fernandes@yahoo.com</td><td>4</td><td>98.75</td><td>2023-09-25</td><td>Eletrônicos</td></tr><tr><td>23</td><td>195</td><td>8</td><td>Julia Souza</td><td>julia.souza@gmail.com</td><td>1</td><td>14.37</td><td>2023-02-10</td><td>Alimentos</td></tr><tr><td>15</td><td>163</td><td>59</td><td>Pedro Gomes</td><td>pedro.gomes@outlook.com</td><td>2</td><td>40.97</td><td>2023-03-07</td><td>Livros</td></tr><tr><td>18</td><td>11</td><td>21</td><td>Julia Pereira</td><td>julia.pereira@outlook.com</td><td>10</td><td>59.85</td><td>2023-03-02</td><td>Alimentos</td></tr><tr><td>29</td><td>166</td><td>12</td><td>Maria Silva</td><td>maria.silva@gmail.com</td><td>5</td><td>32.52</td><td>2023-07-20</td><td>Móveis</td></tr><tr><td>14</td><td>70</td><td>4</td><td>Rafael Souza</td><td>rafael.souza@yahoo.com</td><td>7</td><td>64.23</td><td>2023-06-20</td><td>Móveis</td></tr><tr><td>20</td><td>78</td><td>14</td><td>Maria Alves</td><td>maria.alves@outlook.com</td><td>1</td><td>61.86</td><td>2023-04-16</td><td>Livros</td></tr><tr><td>49</td><td>22</td><td>28</td><td>Paula Gomes</td><td>paula.gomes@outlook.com</td><td>4</td><td>63.4</td><td>2023-01-04</td><td>Móveis</td></tr><tr><td>32</td><td>75</td><td>75</td><td>Rafael Silva</td><td>rafael.silva@hotmail.com</td><td>9</td><td>42.69</td><td>2023-05-11</td><td>Vestuário</td></tr><tr><td>19</td><td>178</td><td>13</td><td>Lucas Alves</td><td>lucas.alves@outlook.com</td><td>1</td><td>53.79</td><td>2023-01-23</td><td>Móveis</td></tr><tr><td>29</td><td>86</td><td>42</td><td>João Gomes</td><td>joo.gomes@outlook.com</td><td>4</td><td>53.91</td><td>2023-11-09</td><td>Móveis</td></tr><tr><td>5</td><td>143</td><td>63</td><td>João Santos</td><td>joo.santos@outlook.com</td><td>1</td><td>67.45</td><td>2023-11-11</td><td>Livros</td></tr><tr><td>7</td><td>3</td><td>34</td><td>Pedro Silva</td><td>pedro.silva@yahoo.com</td><td>4</td><td>18.37</td><td>2023-03-01</td><td>Vestuário</td></tr><tr><td>38</td><td>183</td><td>57</td><td>Julia Lima</td><td>julia.lima@gmail.com</td><td>1</td><td>38.46</td><td>2023-02-01</td><td>Alimentos</td></tr><tr><td>17</td><td>49</td><td>47</td><td>Pedro Souza</td><td>pedro.souza@gmail.com</td><td>4</td><td>43.19</td><td>2023-06-16</td><td>Vestuário</td></tr><tr><td>29</td><td>56</td><td>12</td><td>Julia Oliveira</td><td>julia.oliveira@outlook.com</td><td>9</td><td>67.78</td><td>2023-04-23</td><td>Móveis</td></tr><tr><td>14</td><td>4</td><td>95</td><td>Gabriel Pereira</td><td>gabriel.pereira@hotmail.com</td><td>6</td><td>29.56</td><td>2023-04-23</td><td>Móveis</td></tr><tr><td>16</td><td>140</td><td>77</td><td>Ana Santos</td><td>ana.santos@gmail.com</td><td>10</td><td>46.92</td><td>2023-09-28</td><td>Eletrônicos</td></tr><tr><td>30</td><td>9</td><td>96</td><td>Lucas Silva</td><td>lucas.silva@hotmail.com</td><td>7</td><td>59.34</td><td>2023-08-12</td><td>Livros</td></tr><tr><td>10</td><td>77</td><td>8</td><td>Lucas Fernandes</td><td>lucas.fernandes@gmail.com</td><td>1</td><td>78.39</td><td>2023-09-11</td><td>Livros</td></tr><tr><td>17</td><td>158</td><td>89</td><td>Paula Pereira</td><td>paula.pereira@yahoo.com</td><td>7</td><td>70.73</td><td>2023-03-15</td><td>Vestuário</td></tr><tr><td>50</td><td>81</td><td>67</td><td>Paula Silva</td><td>paula.silva@hotmail.com</td><td>1</td><td>95.64</td><td>2023-04-11</td><td>Livros</td></tr><tr><td>3</td><td>136</td><td>13</td><td>Maria Santos</td><td>maria.santos@outlook.com</td><td>3</td><td>79.79</td><td>2023-01-14</td><td>Alimentos</td></tr><tr><td>29</td><td>189</td><td>74</td><td>João Silva</td><td>joo.silva@yahoo.com</td><td>6</td><td>37.09</td><td>2023-05-10</td><td>Móveis</td></tr><tr><td>9</td><td>8</td><td>19</td><td>Paula Oliveira</td><td>paula.oliveira@hotmail.com</td><td>2</td><td>14.62</td><td>2023-04-18</td><td>Móveis</td></tr><tr><td>7</td><td>148</td><td>75</td><td>Paula Oliveira</td><td>paula.oliveira@yahoo.com</td><td>2</td><td>58.74</td><td>2023-09-04</td><td>Vestuário</td></tr><tr><td>10</td><td>10</td><td>43</td><td>Ana Alves</td><td>ana.alves@outlook.com</td><td>3</td><td>82.98</td><td>2023-07-09</td><td>Livros</td></tr><tr><td>9</td><td>68</td><td>17</td><td>Lucas Oliveira</td><td>lucas.oliveira@yahoo.com</td><td>10</td><td>58.93</td><td>2023-07-23</td><td>Móveis</td></tr><tr><td>34</td><td>137</td><td>21</td><td>Gabriel Santos</td><td>gabriel.santos@yahoo.com</td><td>4</td><td>29.64</td><td>2023-06-09</td><td>Móveis</td></tr><tr><td>5</td><td>147</td><td>38</td><td>Maria Silva</td><td>maria.silva@yahoo.com</td><td>9</td><td>65.24</td><td>2023-02-14</td><td>Livros</td></tr><tr><td>8</td><td>196</td><td>4</td><td>Julia Oliveira</td><td>julia.oliveira@hotmail.com</td><td>7</td><td>96.54</td><td>2023-01-17</td><td>Alimentos</td></tr><tr><td>25</td><td>80</td><td>12</td><td>João Pereira</td><td>joo.pereira@hotmail.com</td><td>1</td><td>50.16</td><td>2023-06-25</td><td>Livros</td></tr><tr><td>50</td><td>128</td><td>25</td><td>Julia Alves</td><td>julia.alves@hotmail.com</td><td>6</td><td>73.83</td><td>2023-02-16</td><td>Livros</td></tr><tr><td>28</td><td>154</td><td>97</td><td>João Lima</td><td>joo.lima@yahoo.com</td><td>2</td><td>85.55</td><td>2023-08-08</td><td>Alimentos</td></tr><tr><td>38</td><td>167</td><td>5</td><td>Paula Pereira</td><td>paula.pereira@hotmail.com</td><td>8</td><td>81.66</td><td>2023-02-08</td><td>Alimentos</td></tr><tr><td>18</td><td>169</td><td>33</td><td>Rafael Santos</td><td>rafael.santos@hotmail.com</td><td>2</td><td>19.21</td><td>2023-04-16</td><td>Alimentos</td></tr><tr><td>11</td><td>40</td><td>79</td><td>Rafael Pereira</td><td>rafael.pereira@yahoo.com</td><td>4</td><td>85.67</td><td>2023-06-20</td><td>Eletrônicos</td></tr><tr><td>7</td><td>162</td><td>54</td><td>Pedro Rodrigues</td><td>pedro.rodrigues@hotmail.com</td><td>7</td><td>17.19</td><td>2023-03-22</td><td>Vestuário</td></tr><tr><td>35</td><td>165</td><td>35</td><td>Rafael Silva</td><td>rafael.silva@outlook.com</td><td>10</td><td>42.06</td><td>2023-05-08</td><td>Livros</td></tr><tr><td>50</td><td>32</td><td>24</td><td>Gabriel Santos</td><td>gabriel.santos@hotmail.com</td><td>2</td><td>41.78</td><td>2023-12-09</td><td>Livros</td></tr><tr><td>15</td><td>117</td><td>2</td><td>Ana Lima</td><td>ana.lima@outlook.com</td><td>10</td><td>69.46</td><td>2023-06-28</td><td>Livros</td></tr><tr><td>15</td><td>62</td><td>38</td><td>Julia Santos</td><td>julia.santos@gmail.com</td><td>2</td><td>11.51</td><td>2023-08-07</td><td>Livros</td></tr><tr><td>2</td><td>135</td><td>3</td><td>Carla Santos</td><td>carla.santos@hotmail.com</td><td>4</td><td>94.73</td><td>2023-10-10</td><td>Vestuário</td></tr><tr><td>19</td><td>66</td><td>73</td><td>Carla Lima</td><td>carla.lima@outlook.com</td><td>4</td><td>64.81</td><td>2023-09-28</td><td>Móveis</td></tr><tr><td>22</td><td>124</td><td>4</td><td>Rafael Pereira</td><td>rafael.pereira@gmail.com</td><td>6</td><td>24.26</td><td>2023-01-15</td><td>Vestuário</td></tr><tr><td>4</td><td>198</td><td>25</td><td>Rafael Santos</td><td>rafael.santos@hotmail.com</td><td>2</td><td>26.43</td><td>2023-08-28</td><td>Móveis</td></tr><tr><td>47</td><td>39</td><td>54</td><td>Carla Gomes</td><td>carla.gomes@yahoo.com</td><td>7</td><td>74.55</td><td>2023-01-14</td><td>Vestuário</td></tr><tr><td>41</td><td>64</td><td>45</td><td>Pedro Lima</td><td>pedro.lima@yahoo.com</td><td>2</td><td>20.83</td><td>2023-02-10</td><td>Eletrônicos</td></tr><tr><td>29</td><td>112</td><td>97</td><td>Gabriel Souza</td><td>gabriel.souza@outlook.com</td><td>6</td><td>46.58</td><td>2023-02-23</td><td>Móveis</td></tr><tr><td>8</td><td>120</td><td>11</td><td>João Oliveira</td><td>joo.oliveira@outlook.com</td><td>6</td><td>80.28</td><td>2023-07-19</td><td>Alimentos</td></tr><tr><td>45</td><td>182</td><td>99</td><td>Rafael Oliveira</td><td>rafael.oliveira@yahoo.com</td><td>10</td><td>50.04</td><td>2023-01-27</td><td>Livros</td></tr><tr><td>6</td><td>83</td><td>72</td><td>Gabriel Fernandes</td><td>gabriel.fernandes@yahoo.com</td><td>6</td><td>31.15</td><td>2023-11-18</td><td>Eletrônicos</td></tr><tr><td>20</td><td>179</td><td>92</td><td>Julia Rodrigues</td><td>julia.rodrigues@hotmail.com</td><td>1</td><td>56.79</td><td>2023-02-18</td><td>Livros</td></tr><tr><td>30</td><td>84</td><td>83</td><td>Julia Fernandes</td><td>julia.fernandes@gmail.com</td><td>3</td><td>75.75</td><td>2023-10-02</td><td>Livros</td></tr><tr><td>43</td><td>129</td><td>54</td><td>Maria Pereira</td><td>maria.pereira@outlook.com</td><td>4</td><td>77.67</td><td>2023-04-22</td><td>Alimentos</td></tr><tr><td>36</td><td>159</td><td>49</td><td>Paula Souza</td><td>paula.souza@yahoo.com</td><td>2</td><td>88.78</td><td>2023-12-20</td><td>Eletrônicos</td></tr><tr><td>17</td><td>17</td><td>70</td><td>Carla Rodrigues</td><td>carla.rodrigues@yahoo.com</td><td>6</td><td>36.43</td><td>2023-06-27</td><td>Vestuário</td></tr><tr><td>9</td><td>145</td><td>43</td><td>Rafael Fernandes</td><td>rafael.fernandes@outlook.com</td><td>4</td><td>75.02</td><td>2023-06-19</td><td>Móveis</td></tr><tr><td>4</td><td>156</td><td>99</td><td>João Gomes</td><td>joo.gomes@outlook.com</td><td>9</td><td>42.48</td><td>2023-12-26</td><td>Móveis</td></tr><tr><td>10</td><td>20</td><td>97</td><td>Gabriel Rodrigues</td><td>gabriel.rodrigues@yahoo.com</td><td>4</td><td>91.57</td><td>2023-05-25</td><td>Livros</td></tr><tr><td>14</td><td>127</td><td>87</td><td>Maria Alves</td><td>maria.alves@yahoo.com</td><td>5</td><td>13.03</td><td>2023-04-24</td><td>Móveis</td></tr><tr><td>17</td><td>187</td><td>49</td><td>Julia Pereira</td><td>julia.pereira@outlook.com</td><td>3</td><td>69.0</td><td>2023-02-12</td><td>Vestuário</td></tr><tr><td>45</td><td>123</td><td>25</td><td>Rafael Fernandes</td><td>rafael.fernandes@outlook.com</td><td>8</td><td>38.27</td><td>2023-10-15</td><td>Livros</td></tr><tr><td>35</td><td>38</td><td>20</td><td>João Rodrigues</td><td>joo.rodrigues@hotmail.com</td><td>5</td><td>20.14</td><td>2023-09-16</td><td>Livros</td></tr><tr><td>3</td><td>91</td><td>28</td><td>Gabriel Fernandes</td><td>gabriel.fernandes@hotmail.com</td><td>5</td><td>58.41</td><td>2023-12-12</td><td>Alimentos</td></tr><tr><td>29</td><td>151</td><td>51</td><td>Rafael Pereira</td><td>rafael.pereira@hotmail.com</td><td>1</td><td>66.94</td><td>2023-03-17</td><td>Móveis</td></tr><tr><td>4</td><td>67</td><td>45</td><td>Gabriel Souza</td><td>gabriel.souza@hotmail.com</td><td>6</td><td>42.3</td><td>2023-08-16</td><td>Móveis</td></tr><tr><td>42</td><td>61</td><td>97</td><td>Gabriel Fernandes</td><td>gabriel.fernandes@outlook.com</td><td>7</td><td>99.92</td><td>2023-09-17</td><td>Vestuário</td></tr><tr><td>45</td><td>153</td><td>41</td><td>João Alves</td><td>joo.alves@gmail.com</td><td>3</td><td>79.29</td><td>2023-08-16</td><td>Livros</td></tr><tr><td>14</td><td>50</td><td>9</td><td>Julia Alves</td><td>julia.alves@hotmail.com</td><td>8</td><td>67.71</td><td>2023-02-18</td><td>Móveis</td></tr><tr><td>4</td><td>88</td><td>98</td><td>Carla Fernandes</td><td>carla.fernandes@gmail.com</td><td>6</td><td>59.79</td><td>2023-01-22</td><td>Móveis</td></tr><tr><td>45</td><td>122</td><td>36</td><td>Lucas Pereira</td><td>lucas.pereira@outlook.com</td><td>3</td><td>26.56</td><td>2023-04-28</td><td>Livros</td></tr><tr><td>8</td><td>89</td><td>57</td><td>Maria Pereira</td><td>maria.pereira@outlook.com</td><td>3</td><td>64.33</td><td>2023-10-12</td><td>Alimentos</td></tr><tr><td>46</td><td>95</td><td>29</td><td>João Gomes</td><td>joo.gomes@gmail.com</td><td>2</td><td>83.5</td><td>2023-01-03</td><td>Eletrônicos</td></tr><tr><td>43</td><td>192</td><td>54</td><td>Maria Santos</td><td>maria.santos@outlook.com</td><td>2</td><td>23.64</td><td>2023-12-06</td><td>Alimentos</td></tr><tr><td>23</td><td>21</td><td>5</td><td>Rafael Santos</td><td>rafael.santos@hotmail.com</td><td>1</td><td>44.27</td><td>2023-05-11</td><td>Alimentos</td></tr><tr><td>36</td><td>121</td><td>85</td><td>Lucas Santos</td><td>lucas.santos@hotmail.com</td><td>6</td><td>36.25</td><td>2023-01-23</td><td>Eletrônicos</td></tr><tr><td>50</td><td>14</td><td>66</td><td>Carla Alves</td><td>carla.alves@gmail.com</td><td>8</td><td>70.47</td><td>2023-04-26</td><td>Livros</td></tr><tr><td>21</td><td>99</td><td>11</td><td>Pedro Alves</td><td>pedro.alves@yahoo.com</td><td>9</td><td>21.86</td><td>2023-10-18</td><td>Eletrônicos</td></tr><tr><td>29</td><td>152</td><td>10</td><td>Maria Alves</td><td>maria.alves@gmail.com</td><td>8</td><td>41.46</td><td>2023-09-18</td><td>Móveis</td></tr><tr><td>28</td><td>41</td><td>70</td><td>Rafael Santos</td><td>rafael.santos@hotmail.com</td><td>1</td><td>12.59</td><td>2023-12-09</td><td>Alimentos</td></tr><tr><td>36</td><td>161</td><td>33</td><td>Ana Souza</td><td>ana.souza@hotmail.com</td><td>1</td><td>67.12</td><td>2023-10-01</td><td>Eletrônicos</td></tr><tr><td>9</td><td>115</td><td>49</td><td>Julia Silva</td><td>julia.silva@gmail.com</td><td>4</td><td>66.36</td><td>2023-06-08</td><td>Móveis</td></tr><tr><td>15</td><td>27</td><td>16</td><td>Pedro Pereira</td><td>pedro.pereira@outlook.com</td><td>1</td><td>15.61</td><td>2023-07-27</td><td>Livros</td></tr><tr><td>35</td><td>45</td><td>79</td><td>Julia Gomes</td><td>julia.gomes@hotmail.com</td><td>6</td><td>31.09</td><td>2023-01-27</td><td>Livros</td></tr><tr><td>42</td><td>142</td><td>78</td><td>Pedro Santos</td><td>pedro.santos@gmail.com</td><td>2</td><td>60.75</td><td>2023-08-22</td><td>Vestuário</td></tr><tr><td>30</td><td>29</td><td>57</td><td>Pedro Pereira</td><td>pedro.pereira@yahoo.com</td><td>6</td><td>97.72</td><td>2023-12-05</td><td>Livros</td></tr><tr><td>18</td><td>76</td><td>44</td><td>João Santos</td><td>joo.santos@yahoo.com</td><td>10</td><td>74.07</td><td>2023-11-25</td><td>Alimentos</td></tr><tr><td>33</td><td>144</td><td>44</td><td>João Rodrigues</td><td>joo.rodrigues@yahoo.com</td><td>7</td><td>95.95</td><td>2023-05-09</td><td>Alimentos</td></tr><tr><td>15</td><td>79</td><td>89</td><td>Gabriel Santos</td><td>gabriel.santos@yahoo.com</td><td>10</td><td>51.62</td><td>2023-09-22</td><td>Livros</td></tr><tr><td>27</td><td>25</td><td>44</td><td>Paula Santos</td><td>paula.santos@hotmail.com</td><td>6</td><td>78.01</td><td>2023-05-05</td><td>Vestuário</td></tr><tr><td>31</td><td>34</td><td>41</td><td>Rafael Alves</td><td>rafael.alves@outlook.com</td><td>7</td><td>67.29</td><td>2023-08-05</td><td>Eletrônicos</td></tr><tr><td>7</td><td>97</td><td>86</td><td>Pedro Silva</td><td>pedro.silva@gmail.com</td><td>6</td><td>95.27</td><td>2023-08-11</td><td>Vestuário</td></tr><tr><td>16</td><td>104</td><td>22</td><td>Carla Pereira</td><td>carla.pereira@hotmail.com</td><td>10</td><td>33.77</td><td>2023-07-01</td><td>Eletrônicos</td></tr><tr><td>22</td><td>119</td><td>21</td><td>Gabriel Gomes</td><td>gabriel.gomes@hotmail.com</td><td>4</td><td>52.94</td><td>2023-01-24</td><td>Vestuário</td></tr><tr><td>41</td><td>102</td><td>93</td><td>Rafael Souza</td><td>rafael.souza@hotmail.com</td><td>6</td><td>44.71</td><td>2023-10-12</td><td>Eletrônicos</td></tr><tr><td>17</td><td>193</td><td>88</td><td>Maria Santos</td><td>maria.santos@yahoo.com</td><td>8</td><td>58.01</td><td>2023-11-27</td><td>Vestuário</td></tr><tr><td>20</td><td>116</td><td>27</td><td>Maria Pereira</td><td>maria.pereira@outlook.com</td><td>10</td><td>47.74</td><td>2023-07-19</td><td>Livros</td></tr><tr><td>21</td><td>105</td><td>80</td><td>Carla Souza</td><td>carla.souza@gmail.com</td><td>10</td><td>58.33</td><td>2023-05-27</td><td>Eletrônicos</td></tr><tr><td>17</td><td>7</td><td>6</td><td>Julia Alves</td><td>julia.alves@outlook.com</td><td>1</td><td>79.81</td><td>2023-11-20</td><td>Vestuário</td></tr><tr><td>41</td><td>171</td><td>98</td><td>Pedro Souza</td><td>pedro.souza@yahoo.com</td><td>10</td><td>74.79</td><td>2023-01-28</td><td>Eletrônicos</td></tr><tr><td>50</td><td>44</td><td>15</td><td>Gabriel Fernandes</td><td>gabriel.fernandes@outlook.com</td><td>3</td><td>21.66</td><td>2023-03-09</td><td>Livros</td></tr><tr><td>24</td><td>191</td><td>40</td><td>Lucas Santos</td><td>lucas.santos@outlook.com</td><td>8</td><td>35.26</td><td>2023-04-12</td><td>Móveis</td></tr><tr><td>23</td><td>197</td><td>53</td><td>Rafael Alves</td><td>rafael.alves@outlook.com</td><td>9</td><td>49.39</td><td>2023-03-21</td><td>Alimentos</td></tr><tr><td>25</td><td>155</td><td>70</td><td>Gabriel Fernandes</td><td>gabriel.fernandes@hotmail.com</td><td>10</td><td>39.62</td><td>2023-09-18</td><td>Livros</td></tr><tr><td>4</td><td>19</td><td>62</td><td>Gabriel Silva</td><td>gabriel.silva@hotmail.com</td><td>3</td><td>84.65</td><td>2023-06-04</td><td>Móveis</td></tr><tr><td>1</td><td>131</td><td>64</td><td>João Silva</td><td>joo.silva@gmail.com</td><td>7</td><td>92.14</td><td>2023-06-13</td><td>Eletrônicos</td></tr><tr><td>3</td><td>130</td><td>82</td><td>Julia Gomes</td><td>julia.gomes@yahoo.com</td><td>1</td><td>86.32</td><td>2023-03-24</td><td>Alimentos</td></tr><tr><td>21</td><td>52</td><td>80</td><td>Paula Souza</td><td>paula.souza@hotmail.com</td><td>3</td><td>12.69</td><td>2023-11-14</td><td>Eletrônicos</td></tr><tr><td>21</td><td>13</td><td>39</td><td>Gabriel Gomes</td><td>gabriel.gomes@yahoo.com</td><td>4</td><td>90.53</td><td>2023-11-22</td><td>Eletrônicos</td></tr><tr><td>12</td><td>36</td><td>12</td><td>Maria Fernandes</td><td>maria.fernandes@yahoo.com</td><td>8</td><td>45.53</td><td>2023-09-18</td><td>Vestuário</td></tr><tr><td>37</td><td>54</td><td>57</td><td>Pedro Oliveira</td><td>pedro.oliveira@yahoo.com</td><td>3</td><td>51.93</td><td>2023-12-22</td><td>Vestuário</td></tr><tr><td>10</td><td>63</td><td>65</td><td>Lucas Gomes</td><td>lucas.gomes@yahoo.com</td><td>9</td><td>54.9</td><td>2023-05-11</td><td>Livros</td></tr><tr><td>20</td><td>48</td><td>13</td><td>Julia Lima</td><td>julia.lima@outlook.com</td><td>1</td><td>73.3</td><td>2023-10-04</td><td>Livros</td></tr><tr><td>13</td><td>125</td><td>46</td><td>João Fernandes</td><td>joo.fernandes@gmail.com</td><td>2</td><td>95.31</td><td>2023-06-10</td><td>Alimentos</td></tr><tr><td>42</td><td>138</td><td>21</td><td>João Rodrigues</td><td>joo.rodrigues@outlook.com</td><td>6</td><td>21.9</td><td>2023-01-18</td><td>Vestuário</td></tr><tr><td>11</td><td>146</td><td>25</td><td>Lucas Oliveira</td><td>lucas.oliveira@hotmail.com</td><td>5</td><td>79.99</td><td>2023-11-02</td><td>Eletrônicos</td></tr><tr><td>6</td><td>16</td><td>94</td><td>Carla Rodrigues</td><td>carla.rodrigues@yahoo.com</td><td>3</td><td>87.4</td><td>2023-05-14</td><td>Eletrônicos</td></tr><tr><td>10</td><td>134</td><td>37</td><td>João Silva</td><td>joo.silva@hotmail.com</td><td>6</td><td>96.57</td><td>2023-09-28</td><td>Livros</td></tr><tr><td>47</td><td>73</td><td>31</td><td>Pedro Silva</td><td>pedro.silva@hotmail.com</td><td>1</td><td>33.41</td><td>2023-09-05</td><td>Vestuário</td></tr><tr><td>6</td><td>90</td><td>59</td><td>Pedro Lima</td><td>pedro.lima@outlook.com</td><td>2</td><td>16.04</td><td>2023-06-14</td><td>Eletrônicos</td></tr><tr><td>2</td><td>164</td><td>20</td><td>Maria Silva</td><td>maria.silva@yahoo.com</td><td>3</td><td>51.19</td><td>2023-10-21</td><td>Vestuário</td></tr><tr><td>5</td><td>28</td><td>96</td><td>Rafael Gomes</td><td>rafael.gomes@hotmail.com</td><td>5</td><td>40.81</td><td>2023-12-13</td><td>Livros</td></tr><tr><td>35</td><td>170</td><td>84</td><td>Ana Oliveira</td><td>ana.oliveira@outlook.com</td><td>1</td><td>94.69</td><td>2023-10-14</td><td>Livros</td></tr><tr><td>26</td><td>173</td><td>49</td><td>Ana Fernandes</td><td>ana.fernandes@yahoo.com</td><td>3</td><td>16.96</td><td>2023-06-20</td><td>Eletrônicos</td></tr><tr><td>21</td><td>26</td><td>49</td><td>Gabriel Rodrigues</td><td>gabriel.rodrigues@yahoo.com</td><td>7</td><td>65.93</td><td>2023-12-26</td><td>Eletrônicos</td></tr><tr><td>22</td><td>160</td><td>90</td><td>Carla Lima</td><td>carla.lima@yahoo.com</td><td>6</td><td>52.18</td><td>2023-08-17</td><td>Vestuário</td></tr><tr><td>17</td><td>180</td><td>69</td><td>Gabriel Santos</td><td>gabriel.santos@gmail.com</td><td>8</td><td>44.46</td><td>2023-09-07</td><td>Vestuário</td></tr><tr><td>22</td><td>188</td><td>10</td><td>Ana Gomes</td><td>ana.gomes@yahoo.com</td><td>2</td><td>30.95</td><td>2023-11-07</td><td>Vestuário</td></tr><tr><td>27</td><td>107</td><td>96</td><td>Maria Santos</td><td>maria.santos@outlook.com</td><td>10</td><td>82.47</td><td>2023-11-03</td><td>Vestuário</td></tr><tr><td>11</td><td>108</td><td>44</td><td>Lucas Gomes</td><td>lucas.gomes@outlook.com</td><td>10</td><td>87.36</td><td>2023-04-05</td><td>Eletrônicos</td></tr><tr><td>35</td><td>113</td><td>12</td><td>Carla Pereira</td><td>carla.pereira@gmail.com</td><td>4</td><td>44.59</td><td>2023-10-20</td><td>Livros</td></tr><tr><td>35</td><td>157</td><td>11</td><td>Rafael Alves</td><td>rafael.alves@gmail.com</td><td>2</td><td>91.91</td><td>2023-05-06</td><td>Livros</td></tr><tr><td>20</td><td>199</td><td>37</td><td>Lucas Silva</td><td>lucas.silva@gmail.com</td><td>4</td><td>22.43</td><td>2023-10-05</td><td>Livros</td></tr><tr><td>50</td><td>5</td><td>41</td><td>Gabriel Oliveira</td><td>gabriel.oliveira@outlook.com</td><td>5</td><td>65.08</td><td>2023-04-15</td><td>Livros</td></tr><tr><td>7</td><td>30</td><td>37</td><td>Ana Alves</td><td>ana.alves@gmail.com</td><td>8</td><td>32.69</td><td>2023-12-01</td><td>Vestuário</td></tr><tr><td>8</td><td>57</td><td>66</td><td>Paula Santos</td><td>paula.santos@outlook.com</td><td>6</td><td>37.02</td><td>2023-09-24</td><td>Alimentos</td></tr><tr><td>41</td><td>133</td><td>52</td><td>Julia Alves</td><td>julia.alves@gmail.com</td><td>3</td><td>32.69</td><td>2023-08-14</td><td>Eletrônicos</td></tr><tr><td>17</td><td>92</td><td>45</td><td>Pedro Santos</td><td>pedro.santos@gmail.com</td><td>7</td><td>58.72</td><td>2023-05-04</td><td>Vestuário</td></tr><tr><td>9</td><td>194</td><td>33</td><td>Gabriel Gomes</td><td>gabriel.gomes@hotmail.com</td><td>4</td><td>38.73</td><td>2023-02-03</td><td>Móveis</td></tr><tr><td>27</td><td>1</td><td>89</td><td>Maria Pereira</td><td>maria.pereira@gmail.com</td><td>7</td><td>48.41</td><td>2023-07-06</td><td>Vestuário</td></tr><tr><td>19</td><td>43</td><td>30</td><td>Ana Rodrigues</td><td>ana.rodrigues@gmail.com</td><td>9</td><td>59.41</td><td>2023-11-04</td><td>Móveis</td></tr><tr><td>22</td><td>31</td><td>92</td><td>Julia Gomes</td><td>julia.gomes@yahoo.com</td><td>10</td><td>84.15</td><td>2023-07-10</td><td>Vestuário</td></tr><tr><td>20</td><td>42</td><td>7</td><td>Rafael Gomes</td><td>rafael.gomes@gmail.com</td><td>2</td><td>12.46</td><td>2023-01-04</td><td>Livros</td></tr></tbody></table></div>"
      ]
     },
     "metadata": {
      "application/vnd.databricks.v1+output": {
       "addedWidgets": {},
       "aggData": [],
       "aggError": "",
       "aggOverflow": false,
       "aggSchema": [],
       "aggSeriesLimitReached": false,
       "aggType": "",
       "arguments": {},
       "columnCustomDisplayInfos": {},
       "data": [
        [
         33,
         71,
         39,
         "Ana Alves",
         "ana.alves@yahoo.com",
         5,
         16.39,
         "2023-10-26",
         "Alimentos"
        ],
        [
         34,
         82,
         93,
         "Pedro Gomes",
         "pedro.gomes@hotmail.com",
         3,
         32.69,
         "2023-05-27",
         "Móveis"
        ],
        [
         17,
         100,
         83,
         "Maria Lima",
         "maria.lima@outlook.com",
         5,
         21.2,
         "2023-10-23",
         "Vestuário"
        ],
        [
         15,
         181,
         7,
         "Maria Fernandes",
         "maria.fernandes@gmail.com",
         6,
         71.33,
         "2023-07-17",
         "Livros"
        ],
        [
         4,
         110,
         60,
         "Maria Souza",
         "maria.souza@yahoo.com",
         6,
         90.21,
         "2023-07-02",
         "Móveis"
        ],
        [
         16,
         175,
         6,
         "Rafael Oliveira",
         "rafael.oliveira@yahoo.com",
         9,
         44.75,
         "2023-04-28",
         "Eletrônicos"
        ],
        [
         45,
         150,
         97,
         "Pedro Santos",
         "pedro.santos@hotmail.com",
         10,
         65.21,
         "2023-01-06",
         "Livros"
        ],
        [
         3,
         132,
         12,
         "Julia Santos",
         "julia.santos@gmail.com",
         2,
         69.89,
         "2023-01-03",
         "Alimentos"
        ],
        [
         23,
         101,
         95,
         "João Alves",
         "joo.alves@yahoo.com",
         2,
         79.25,
         "2023-06-22",
         "Alimentos"
        ],
        [
         32,
         168,
         92,
         "Pedro Gomes",
         "pedro.gomes@gmail.com",
         6,
         41.69,
         "2023-05-18",
         "Vestuário"
        ],
        [
         4,
         93,
         91,
         "Gabriel Gomes",
         "gabriel.gomes@yahoo.com",
         9,
         11.4,
         "2023-01-26",
         "Móveis"
        ],
        [
         9,
         35,
         2,
         "Lucas Pereira",
         "lucas.pereira@yahoo.com",
         3,
         95.43,
         "2023-06-17",
         "Móveis"
        ],
        [
         17,
         23,
         84,
         "Carla Lima",
         "carla.lima@hotmail.com",
         10,
         17.79,
         "2023-12-10",
         "Vestuário"
        ],
        [
         11,
         33,
         3,
         "Maria Rodrigues",
         "maria.rodrigues@hotmail.com",
         4,
         78.48,
         "2023-07-28",
         "Eletrônicos"
        ],
        [
         50,
         74,
         35,
         "Carla Souza",
         "carla.souza@hotmail.com",
         9,
         68.62,
         "2023-03-21",
         "Livros"
        ],
        [
         18,
         94,
         62,
         "Pedro Gomes",
         "pedro.gomes@outlook.com",
         5,
         25.4,
         "2023-06-13",
         "Alimentos"
        ],
        [
         3,
         96,
         86,
         "Rafael Alves",
         "rafael.alves@gmail.com",
         4,
         53.18,
         "2023-10-09",
         "Alimentos"
        ],
        [
         24,
         60,
         54,
         "Gabriel Gomes",
         "gabriel.gomes@gmail.com",
         6,
         12.45,
         "2023-05-15",
         "Móveis"
        ],
        [
         42,
         2,
         13,
         "Rafael Lima",
         "rafael.lima@yahoo.com",
         6,
         46.64,
         "2023-10-01",
         "Vestuário"
        ],
        [
         6,
         18,
         47,
         "Pedro Lima",
         "pedro.lima@gmail.com",
         1,
         28.57,
         "2023-01-24",
         "Eletrônicos"
        ],
        [
         8,
         103,
         46,
         "Paula Rodrigues",
         "paula.rodrigues@hotmail.com",
         2,
         41.89,
         "2023-11-05",
         "Alimentos"
        ],
        [
         14,
         12,
         92,
         "Ana Oliveira",
         "ana.oliveira@yahoo.com",
         7,
         59.59,
         "2023-04-27",
         "Móveis"
        ],
        [
         2,
         55,
         28,
         "Carla Fernandes",
         "carla.fernandes@yahoo.com",
         1,
         29.77,
         "2023-09-27",
         "Vestuário"
        ],
        [
         12,
         111,
         83,
         "Paula Lima",
         "paula.lima@gmail.com",
         5,
         69.88,
         "2023-04-04",
         "Vestuário"
        ],
        [
         41,
         15,
         93,
         "Ana Pereira",
         "ana.pereira@gmail.com",
         8,
         82.16,
         "2023-01-11",
         "Eletrônicos"
        ],
        [
         20,
         69,
         34,
         "João Santos",
         "joo.santos@gmail.com",
         6,
         24.44,
         "2023-04-16",
         "Livros"
        ],
        [
         9,
         6,
         55,
         "João Silva",
         "joo.silva@outlook.com",
         9,
         74.88,
         "2023-07-07",
         "Móveis"
        ],
        [
         36,
         185,
         19,
         "Paula Rodrigues",
         "paula.rodrigues@hotmail.com",
         4,
         85.4,
         "2023-01-27",
         "Eletrônicos"
        ],
        [
         34,
         118,
         68,
         "Gabriel Pereira",
         "gabriel.pereira@yahoo.com",
         8,
         32.15,
         "2023-02-21",
         "Móveis"
        ],
        [
         3,
         149,
         14,
         "Lucas Lima",
         "lucas.lima@gmail.com",
         9,
         98.84,
         "2023-11-11",
         "Alimentos"
        ],
        [
         34,
         176,
         85,
         "João Lima",
         "joo.lima@yahoo.com",
         8,
         90.39,
         "2023-05-07",
         "Móveis"
        ],
        [
         13,
         59,
         48,
         "Julia Lima",
         "julia.lima@yahoo.com",
         7,
         67.79,
         "2023-10-02",
         "Alimentos"
        ],
        [
         15,
         177,
         52,
         "João Silva",
         "joo.silva@yahoo.com",
         5,
         90.82,
         "2023-03-12",
         "Livros"
        ],
        [
         31,
         186,
         8,
         "Ana Pereira",
         "ana.pereira@yahoo.com",
         9,
         88.44,
         "2023-08-26",
         "Eletrônicos"
        ],
        [
         35,
         58,
         13,
         "Gabriel Fernandes",
         "gabriel.fernandes@gmail.com",
         1,
         69.34,
         "2023-10-10",
         "Livros"
        ],
        [
         32,
         114,
         17,
         "Pedro Silva",
         "pedro.silva@gmail.com",
         9,
         94.88,
         "2023-08-06",
         "Vestuário"
        ],
        [
         13,
         98,
         42,
         "Carla Rodrigues",
         "carla.rodrigues@gmail.com",
         2,
         46.45,
         "2023-12-03",
         "Alimentos"
        ],
        [
         1,
         139,
         98,
         "Paula Fernandes",
         "paula.fernandes@outlook.com",
         3,
         99.98,
         "2023-12-03",
         "Eletrônicos"
        ],
        [
         32,
         109,
         71,
         "Lucas Alves",
         "lucas.alves@yahoo.com",
         9,
         90.48,
         "2023-02-10",
         "Vestuário"
        ],
        [
         11,
         72,
         2,
         "Lucas Oliveira",
         "lucas.oliveira@hotmail.com",
         4,
         81.28,
         "2023-11-18",
         "Eletrônicos"
        ],
        [
         11,
         174,
         50,
         "Maria Alves",
         "maria.alves@hotmail.com",
         7,
         52.34,
         "2023-05-19",
         "Eletrônicos"
        ],
        [
         26,
         200,
         33,
         "Lucas Santos",
         "lucas.santos@gmail.com",
         8,
         73.32,
         "2023-11-22",
         "Eletrônicos"
        ],
        [
         19,
         87,
         63,
         "Gabriel Gomes",
         "gabriel.gomes@gmail.com",
         8,
         84.75,
         "2023-04-14",
         "Móveis"
        ],
        [
         23,
         106,
         41,
         "Rafael Fernandes",
         "rafael.fernandes@outlook.com",
         2,
         10.76,
         "2023-12-14",
         "Alimentos"
        ],
        [
         28,
         126,
         41,
         "Ana Gomes",
         "ana.gomes@yahoo.com",
         7,
         15.21,
         "2023-04-11",
         "Alimentos"
        ],
        [
         41,
         190,
         34,
         "João Pereira",
         "joo.pereira@gmail.com",
         8,
         71.53,
         "2023-03-16",
         "Eletrônicos"
        ],
        [
         21,
         53,
         17,
         "Ana Souza",
         "ana.souza@hotmail.com",
         5,
         93.21,
         "2023-10-08",
         "Eletrônicos"
        ],
        [
         1,
         46,
         72,
         "Julia Souza",
         "julia.souza@hotmail.com",
         3,
         39.7,
         "2023-06-16",
         "Eletrônicos"
        ],
        [
         25,
         51,
         49,
         "Pedro Lima",
         "pedro.lima@yahoo.com",
         2,
         67.21,
         "2023-07-09",
         "Livros"
        ],
        [
         32,
         65,
         73,
         "Lucas Rodrigues",
         "lucas.rodrigues@outlook.com",
         7,
         17.02,
         "2023-06-14",
         "Vestuário"
        ],
        [
         18,
         85,
         23,
         "Pedro Fernandes",
         "pedro.fernandes@outlook.com",
         5,
         10.49,
         "2023-02-19",
         "Alimentos"
        ],
        [
         30,
         47,
         36,
         "Gabriel Silva",
         "gabriel.silva@yahoo.com",
         1,
         40.21,
         "2023-12-03",
         "Livros"
        ],
        [
         36,
         141,
         83,
         "Maria Pereira",
         "maria.pereira@yahoo.com",
         7,
         41.4,
         "2023-11-07",
         "Eletrônicos"
        ],
        [
         50,
         184,
         46,
         "Lucas Lima",
         "lucas.lima@yahoo.com",
         9,
         14.94,
         "2023-09-09",
         "Livros"
        ],
        [
         34,
         37,
         81,
         "João Alves",
         "joo.alves@outlook.com",
         1,
         47.15,
         "2023-11-21",
         "Móveis"
        ],
        [
         15,
         172,
         24,
         "Gabriel Oliveira",
         "gabriel.oliveira@outlook.com",
         1,
         40.64,
         "2023-09-11",
         "Livros"
        ],
        [
         26,
         24,
         73,
         "Lucas Fernandes",
         "lucas.fernandes@yahoo.com",
         4,
         98.75,
         "2023-09-25",
         "Eletrônicos"
        ],
        [
         23,
         195,
         8,
         "Julia Souza",
         "julia.souza@gmail.com",
         1,
         14.37,
         "2023-02-10",
         "Alimentos"
        ],
        [
         15,
         163,
         59,
         "Pedro Gomes",
         "pedro.gomes@outlook.com",
         2,
         40.97,
         "2023-03-07",
         "Livros"
        ],
        [
         18,
         11,
         21,
         "Julia Pereira",
         "julia.pereira@outlook.com",
         10,
         59.85,
         "2023-03-02",
         "Alimentos"
        ],
        [
         29,
         166,
         12,
         "Maria Silva",
         "maria.silva@gmail.com",
         5,
         32.52,
         "2023-07-20",
         "Móveis"
        ],
        [
         14,
         70,
         4,
         "Rafael Souza",
         "rafael.souza@yahoo.com",
         7,
         64.23,
         "2023-06-20",
         "Móveis"
        ],
        [
         20,
         78,
         14,
         "Maria Alves",
         "maria.alves@outlook.com",
         1,
         61.86,
         "2023-04-16",
         "Livros"
        ],
        [
         49,
         22,
         28,
         "Paula Gomes",
         "paula.gomes@outlook.com",
         4,
         63.4,
         "2023-01-04",
         "Móveis"
        ],
        [
         32,
         75,
         75,
         "Rafael Silva",
         "rafael.silva@hotmail.com",
         9,
         42.69,
         "2023-05-11",
         "Vestuário"
        ],
        [
         19,
         178,
         13,
         "Lucas Alves",
         "lucas.alves@outlook.com",
         1,
         53.79,
         "2023-01-23",
         "Móveis"
        ],
        [
         29,
         86,
         42,
         "João Gomes",
         "joo.gomes@outlook.com",
         4,
         53.91,
         "2023-11-09",
         "Móveis"
        ],
        [
         5,
         143,
         63,
         "João Santos",
         "joo.santos@outlook.com",
         1,
         67.45,
         "2023-11-11",
         "Livros"
        ],
        [
         7,
         3,
         34,
         "Pedro Silva",
         "pedro.silva@yahoo.com",
         4,
         18.37,
         "2023-03-01",
         "Vestuário"
        ],
        [
         38,
         183,
         57,
         "Julia Lima",
         "julia.lima@gmail.com",
         1,
         38.46,
         "2023-02-01",
         "Alimentos"
        ],
        [
         17,
         49,
         47,
         "Pedro Souza",
         "pedro.souza@gmail.com",
         4,
         43.19,
         "2023-06-16",
         "Vestuário"
        ],
        [
         29,
         56,
         12,
         "Julia Oliveira",
         "julia.oliveira@outlook.com",
         9,
         67.78,
         "2023-04-23",
         "Móveis"
        ],
        [
         14,
         4,
         95,
         "Gabriel Pereira",
         "gabriel.pereira@hotmail.com",
         6,
         29.56,
         "2023-04-23",
         "Móveis"
        ],
        [
         16,
         140,
         77,
         "Ana Santos",
         "ana.santos@gmail.com",
         10,
         46.92,
         "2023-09-28",
         "Eletrônicos"
        ],
        [
         30,
         9,
         96,
         "Lucas Silva",
         "lucas.silva@hotmail.com",
         7,
         59.34,
         "2023-08-12",
         "Livros"
        ],
        [
         10,
         77,
         8,
         "Lucas Fernandes",
         "lucas.fernandes@gmail.com",
         1,
         78.39,
         "2023-09-11",
         "Livros"
        ],
        [
         17,
         158,
         89,
         "Paula Pereira",
         "paula.pereira@yahoo.com",
         7,
         70.73,
         "2023-03-15",
         "Vestuário"
        ],
        [
         50,
         81,
         67,
         "Paula Silva",
         "paula.silva@hotmail.com",
         1,
         95.64,
         "2023-04-11",
         "Livros"
        ],
        [
         3,
         136,
         13,
         "Maria Santos",
         "maria.santos@outlook.com",
         3,
         79.79,
         "2023-01-14",
         "Alimentos"
        ],
        [
         29,
         189,
         74,
         "João Silva",
         "joo.silva@yahoo.com",
         6,
         37.09,
         "2023-05-10",
         "Móveis"
        ],
        [
         9,
         8,
         19,
         "Paula Oliveira",
         "paula.oliveira@hotmail.com",
         2,
         14.62,
         "2023-04-18",
         "Móveis"
        ],
        [
         7,
         148,
         75,
         "Paula Oliveira",
         "paula.oliveira@yahoo.com",
         2,
         58.74,
         "2023-09-04",
         "Vestuário"
        ],
        [
         10,
         10,
         43,
         "Ana Alves",
         "ana.alves@outlook.com",
         3,
         82.98,
         "2023-07-09",
         "Livros"
        ],
        [
         9,
         68,
         17,
         "Lucas Oliveira",
         "lucas.oliveira@yahoo.com",
         10,
         58.93,
         "2023-07-23",
         "Móveis"
        ],
        [
         34,
         137,
         21,
         "Gabriel Santos",
         "gabriel.santos@yahoo.com",
         4,
         29.64,
         "2023-06-09",
         "Móveis"
        ],
        [
         5,
         147,
         38,
         "Maria Silva",
         "maria.silva@yahoo.com",
         9,
         65.24,
         "2023-02-14",
         "Livros"
        ],
        [
         8,
         196,
         4,
         "Julia Oliveira",
         "julia.oliveira@hotmail.com",
         7,
         96.54,
         "2023-01-17",
         "Alimentos"
        ],
        [
         25,
         80,
         12,
         "João Pereira",
         "joo.pereira@hotmail.com",
         1,
         50.16,
         "2023-06-25",
         "Livros"
        ],
        [
         50,
         128,
         25,
         "Julia Alves",
         "julia.alves@hotmail.com",
         6,
         73.83,
         "2023-02-16",
         "Livros"
        ],
        [
         28,
         154,
         97,
         "João Lima",
         "joo.lima@yahoo.com",
         2,
         85.55,
         "2023-08-08",
         "Alimentos"
        ],
        [
         38,
         167,
         5,
         "Paula Pereira",
         "paula.pereira@hotmail.com",
         8,
         81.66,
         "2023-02-08",
         "Alimentos"
        ],
        [
         18,
         169,
         33,
         "Rafael Santos",
         "rafael.santos@hotmail.com",
         2,
         19.21,
         "2023-04-16",
         "Alimentos"
        ],
        [
         11,
         40,
         79,
         "Rafael Pereira",
         "rafael.pereira@yahoo.com",
         4,
         85.67,
         "2023-06-20",
         "Eletrônicos"
        ],
        [
         7,
         162,
         54,
         "Pedro Rodrigues",
         "pedro.rodrigues@hotmail.com",
         7,
         17.19,
         "2023-03-22",
         "Vestuário"
        ],
        [
         35,
         165,
         35,
         "Rafael Silva",
         "rafael.silva@outlook.com",
         10,
         42.06,
         "2023-05-08",
         "Livros"
        ],
        [
         50,
         32,
         24,
         "Gabriel Santos",
         "gabriel.santos@hotmail.com",
         2,
         41.78,
         "2023-12-09",
         "Livros"
        ],
        [
         15,
         117,
         2,
         "Ana Lima",
         "ana.lima@outlook.com",
         10,
         69.46,
         "2023-06-28",
         "Livros"
        ],
        [
         15,
         62,
         38,
         "Julia Santos",
         "julia.santos@gmail.com",
         2,
         11.51,
         "2023-08-07",
         "Livros"
        ],
        [
         2,
         135,
         3,
         "Carla Santos",
         "carla.santos@hotmail.com",
         4,
         94.73,
         "2023-10-10",
         "Vestuário"
        ],
        [
         19,
         66,
         73,
         "Carla Lima",
         "carla.lima@outlook.com",
         4,
         64.81,
         "2023-09-28",
         "Móveis"
        ],
        [
         22,
         124,
         4,
         "Rafael Pereira",
         "rafael.pereira@gmail.com",
         6,
         24.26,
         "2023-01-15",
         "Vestuário"
        ],
        [
         4,
         198,
         25,
         "Rafael Santos",
         "rafael.santos@hotmail.com",
         2,
         26.43,
         "2023-08-28",
         "Móveis"
        ],
        [
         47,
         39,
         54,
         "Carla Gomes",
         "carla.gomes@yahoo.com",
         7,
         74.55,
         "2023-01-14",
         "Vestuário"
        ],
        [
         41,
         64,
         45,
         "Pedro Lima",
         "pedro.lima@yahoo.com",
         2,
         20.83,
         "2023-02-10",
         "Eletrônicos"
        ],
        [
         29,
         112,
         97,
         "Gabriel Souza",
         "gabriel.souza@outlook.com",
         6,
         46.58,
         "2023-02-23",
         "Móveis"
        ],
        [
         8,
         120,
         11,
         "João Oliveira",
         "joo.oliveira@outlook.com",
         6,
         80.28,
         "2023-07-19",
         "Alimentos"
        ],
        [
         45,
         182,
         99,
         "Rafael Oliveira",
         "rafael.oliveira@yahoo.com",
         10,
         50.04,
         "2023-01-27",
         "Livros"
        ],
        [
         6,
         83,
         72,
         "Gabriel Fernandes",
         "gabriel.fernandes@yahoo.com",
         6,
         31.15,
         "2023-11-18",
         "Eletrônicos"
        ],
        [
         20,
         179,
         92,
         "Julia Rodrigues",
         "julia.rodrigues@hotmail.com",
         1,
         56.79,
         "2023-02-18",
         "Livros"
        ],
        [
         30,
         84,
         83,
         "Julia Fernandes",
         "julia.fernandes@gmail.com",
         3,
         75.75,
         "2023-10-02",
         "Livros"
        ],
        [
         43,
         129,
         54,
         "Maria Pereira",
         "maria.pereira@outlook.com",
         4,
         77.67,
         "2023-04-22",
         "Alimentos"
        ],
        [
         36,
         159,
         49,
         "Paula Souza",
         "paula.souza@yahoo.com",
         2,
         88.78,
         "2023-12-20",
         "Eletrônicos"
        ],
        [
         17,
         17,
         70,
         "Carla Rodrigues",
         "carla.rodrigues@yahoo.com",
         6,
         36.43,
         "2023-06-27",
         "Vestuário"
        ],
        [
         9,
         145,
         43,
         "Rafael Fernandes",
         "rafael.fernandes@outlook.com",
         4,
         75.02,
         "2023-06-19",
         "Móveis"
        ],
        [
         4,
         156,
         99,
         "João Gomes",
         "joo.gomes@outlook.com",
         9,
         42.48,
         "2023-12-26",
         "Móveis"
        ],
        [
         10,
         20,
         97,
         "Gabriel Rodrigues",
         "gabriel.rodrigues@yahoo.com",
         4,
         91.57,
         "2023-05-25",
         "Livros"
        ],
        [
         14,
         127,
         87,
         "Maria Alves",
         "maria.alves@yahoo.com",
         5,
         13.03,
         "2023-04-24",
         "Móveis"
        ],
        [
         17,
         187,
         49,
         "Julia Pereira",
         "julia.pereira@outlook.com",
         3,
         69.0,
         "2023-02-12",
         "Vestuário"
        ],
        [
         45,
         123,
         25,
         "Rafael Fernandes",
         "rafael.fernandes@outlook.com",
         8,
         38.27,
         "2023-10-15",
         "Livros"
        ],
        [
         35,
         38,
         20,
         "João Rodrigues",
         "joo.rodrigues@hotmail.com",
         5,
         20.14,
         "2023-09-16",
         "Livros"
        ],
        [
         3,
         91,
         28,
         "Gabriel Fernandes",
         "gabriel.fernandes@hotmail.com",
         5,
         58.41,
         "2023-12-12",
         "Alimentos"
        ],
        [
         29,
         151,
         51,
         "Rafael Pereira",
         "rafael.pereira@hotmail.com",
         1,
         66.94,
         "2023-03-17",
         "Móveis"
        ],
        [
         4,
         67,
         45,
         "Gabriel Souza",
         "gabriel.souza@hotmail.com",
         6,
         42.3,
         "2023-08-16",
         "Móveis"
        ],
        [
         42,
         61,
         97,
         "Gabriel Fernandes",
         "gabriel.fernandes@outlook.com",
         7,
         99.92,
         "2023-09-17",
         "Vestuário"
        ],
        [
         45,
         153,
         41,
         "João Alves",
         "joo.alves@gmail.com",
         3,
         79.29,
         "2023-08-16",
         "Livros"
        ],
        [
         14,
         50,
         9,
         "Julia Alves",
         "julia.alves@hotmail.com",
         8,
         67.71,
         "2023-02-18",
         "Móveis"
        ],
        [
         4,
         88,
         98,
         "Carla Fernandes",
         "carla.fernandes@gmail.com",
         6,
         59.79,
         "2023-01-22",
         "Móveis"
        ],
        [
         45,
         122,
         36,
         "Lucas Pereira",
         "lucas.pereira@outlook.com",
         3,
         26.56,
         "2023-04-28",
         "Livros"
        ],
        [
         8,
         89,
         57,
         "Maria Pereira",
         "maria.pereira@outlook.com",
         3,
         64.33,
         "2023-10-12",
         "Alimentos"
        ],
        [
         46,
         95,
         29,
         "João Gomes",
         "joo.gomes@gmail.com",
         2,
         83.5,
         "2023-01-03",
         "Eletrônicos"
        ],
        [
         43,
         192,
         54,
         "Maria Santos",
         "maria.santos@outlook.com",
         2,
         23.64,
         "2023-12-06",
         "Alimentos"
        ],
        [
         23,
         21,
         5,
         "Rafael Santos",
         "rafael.santos@hotmail.com",
         1,
         44.27,
         "2023-05-11",
         "Alimentos"
        ],
        [
         36,
         121,
         85,
         "Lucas Santos",
         "lucas.santos@hotmail.com",
         6,
         36.25,
         "2023-01-23",
         "Eletrônicos"
        ],
        [
         50,
         14,
         66,
         "Carla Alves",
         "carla.alves@gmail.com",
         8,
         70.47,
         "2023-04-26",
         "Livros"
        ],
        [
         21,
         99,
         11,
         "Pedro Alves",
         "pedro.alves@yahoo.com",
         9,
         21.86,
         "2023-10-18",
         "Eletrônicos"
        ],
        [
         29,
         152,
         10,
         "Maria Alves",
         "maria.alves@gmail.com",
         8,
         41.46,
         "2023-09-18",
         "Móveis"
        ],
        [
         28,
         41,
         70,
         "Rafael Santos",
         "rafael.santos@hotmail.com",
         1,
         12.59,
         "2023-12-09",
         "Alimentos"
        ],
        [
         36,
         161,
         33,
         "Ana Souza",
         "ana.souza@hotmail.com",
         1,
         67.12,
         "2023-10-01",
         "Eletrônicos"
        ],
        [
         9,
         115,
         49,
         "Julia Silva",
         "julia.silva@gmail.com",
         4,
         66.36,
         "2023-06-08",
         "Móveis"
        ],
        [
         15,
         27,
         16,
         "Pedro Pereira",
         "pedro.pereira@outlook.com",
         1,
         15.61,
         "2023-07-27",
         "Livros"
        ],
        [
         35,
         45,
         79,
         "Julia Gomes",
         "julia.gomes@hotmail.com",
         6,
         31.09,
         "2023-01-27",
         "Livros"
        ],
        [
         42,
         142,
         78,
         "Pedro Santos",
         "pedro.santos@gmail.com",
         2,
         60.75,
         "2023-08-22",
         "Vestuário"
        ],
        [
         30,
         29,
         57,
         "Pedro Pereira",
         "pedro.pereira@yahoo.com",
         6,
         97.72,
         "2023-12-05",
         "Livros"
        ],
        [
         18,
         76,
         44,
         "João Santos",
         "joo.santos@yahoo.com",
         10,
         74.07,
         "2023-11-25",
         "Alimentos"
        ],
        [
         33,
         144,
         44,
         "João Rodrigues",
         "joo.rodrigues@yahoo.com",
         7,
         95.95,
         "2023-05-09",
         "Alimentos"
        ],
        [
         15,
         79,
         89,
         "Gabriel Santos",
         "gabriel.santos@yahoo.com",
         10,
         51.62,
         "2023-09-22",
         "Livros"
        ],
        [
         27,
         25,
         44,
         "Paula Santos",
         "paula.santos@hotmail.com",
         6,
         78.01,
         "2023-05-05",
         "Vestuário"
        ],
        [
         31,
         34,
         41,
         "Rafael Alves",
         "rafael.alves@outlook.com",
         7,
         67.29,
         "2023-08-05",
         "Eletrônicos"
        ],
        [
         7,
         97,
         86,
         "Pedro Silva",
         "pedro.silva@gmail.com",
         6,
         95.27,
         "2023-08-11",
         "Vestuário"
        ],
        [
         16,
         104,
         22,
         "Carla Pereira",
         "carla.pereira@hotmail.com",
         10,
         33.77,
         "2023-07-01",
         "Eletrônicos"
        ],
        [
         22,
         119,
         21,
         "Gabriel Gomes",
         "gabriel.gomes@hotmail.com",
         4,
         52.94,
         "2023-01-24",
         "Vestuário"
        ],
        [
         41,
         102,
         93,
         "Rafael Souza",
         "rafael.souza@hotmail.com",
         6,
         44.71,
         "2023-10-12",
         "Eletrônicos"
        ],
        [
         17,
         193,
         88,
         "Maria Santos",
         "maria.santos@yahoo.com",
         8,
         58.01,
         "2023-11-27",
         "Vestuário"
        ],
        [
         20,
         116,
         27,
         "Maria Pereira",
         "maria.pereira@outlook.com",
         10,
         47.74,
         "2023-07-19",
         "Livros"
        ],
        [
         21,
         105,
         80,
         "Carla Souza",
         "carla.souza@gmail.com",
         10,
         58.33,
         "2023-05-27",
         "Eletrônicos"
        ],
        [
         17,
         7,
         6,
         "Julia Alves",
         "julia.alves@outlook.com",
         1,
         79.81,
         "2023-11-20",
         "Vestuário"
        ],
        [
         41,
         171,
         98,
         "Pedro Souza",
         "pedro.souza@yahoo.com",
         10,
         74.79,
         "2023-01-28",
         "Eletrônicos"
        ],
        [
         50,
         44,
         15,
         "Gabriel Fernandes",
         "gabriel.fernandes@outlook.com",
         3,
         21.66,
         "2023-03-09",
         "Livros"
        ],
        [
         24,
         191,
         40,
         "Lucas Santos",
         "lucas.santos@outlook.com",
         8,
         35.26,
         "2023-04-12",
         "Móveis"
        ],
        [
         23,
         197,
         53,
         "Rafael Alves",
         "rafael.alves@outlook.com",
         9,
         49.39,
         "2023-03-21",
         "Alimentos"
        ],
        [
         25,
         155,
         70,
         "Gabriel Fernandes",
         "gabriel.fernandes@hotmail.com",
         10,
         39.62,
         "2023-09-18",
         "Livros"
        ],
        [
         4,
         19,
         62,
         "Gabriel Silva",
         "gabriel.silva@hotmail.com",
         3,
         84.65,
         "2023-06-04",
         "Móveis"
        ],
        [
         1,
         131,
         64,
         "João Silva",
         "joo.silva@gmail.com",
         7,
         92.14,
         "2023-06-13",
         "Eletrônicos"
        ],
        [
         3,
         130,
         82,
         "Julia Gomes",
         "julia.gomes@yahoo.com",
         1,
         86.32,
         "2023-03-24",
         "Alimentos"
        ],
        [
         21,
         52,
         80,
         "Paula Souza",
         "paula.souza@hotmail.com",
         3,
         12.69,
         "2023-11-14",
         "Eletrônicos"
        ],
        [
         21,
         13,
         39,
         "Gabriel Gomes",
         "gabriel.gomes@yahoo.com",
         4,
         90.53,
         "2023-11-22",
         "Eletrônicos"
        ],
        [
         12,
         36,
         12,
         "Maria Fernandes",
         "maria.fernandes@yahoo.com",
         8,
         45.53,
         "2023-09-18",
         "Vestuário"
        ],
        [
         37,
         54,
         57,
         "Pedro Oliveira",
         "pedro.oliveira@yahoo.com",
         3,
         51.93,
         "2023-12-22",
         "Vestuário"
        ],
        [
         10,
         63,
         65,
         "Lucas Gomes",
         "lucas.gomes@yahoo.com",
         9,
         54.9,
         "2023-05-11",
         "Livros"
        ],
        [
         20,
         48,
         13,
         "Julia Lima",
         "julia.lima@outlook.com",
         1,
         73.3,
         "2023-10-04",
         "Livros"
        ],
        [
         13,
         125,
         46,
         "João Fernandes",
         "joo.fernandes@gmail.com",
         2,
         95.31,
         "2023-06-10",
         "Alimentos"
        ],
        [
         42,
         138,
         21,
         "João Rodrigues",
         "joo.rodrigues@outlook.com",
         6,
         21.9,
         "2023-01-18",
         "Vestuário"
        ],
        [
         11,
         146,
         25,
         "Lucas Oliveira",
         "lucas.oliveira@hotmail.com",
         5,
         79.99,
         "2023-11-02",
         "Eletrônicos"
        ],
        [
         6,
         16,
         94,
         "Carla Rodrigues",
         "carla.rodrigues@yahoo.com",
         3,
         87.4,
         "2023-05-14",
         "Eletrônicos"
        ],
        [
         10,
         134,
         37,
         "João Silva",
         "joo.silva@hotmail.com",
         6,
         96.57,
         "2023-09-28",
         "Livros"
        ],
        [
         47,
         73,
         31,
         "Pedro Silva",
         "pedro.silva@hotmail.com",
         1,
         33.41,
         "2023-09-05",
         "Vestuário"
        ],
        [
         6,
         90,
         59,
         "Pedro Lima",
         "pedro.lima@outlook.com",
         2,
         16.04,
         "2023-06-14",
         "Eletrônicos"
        ],
        [
         2,
         164,
         20,
         "Maria Silva",
         "maria.silva@yahoo.com",
         3,
         51.19,
         "2023-10-21",
         "Vestuário"
        ],
        [
         5,
         28,
         96,
         "Rafael Gomes",
         "rafael.gomes@hotmail.com",
         5,
         40.81,
         "2023-12-13",
         "Livros"
        ],
        [
         35,
         170,
         84,
         "Ana Oliveira",
         "ana.oliveira@outlook.com",
         1,
         94.69,
         "2023-10-14",
         "Livros"
        ],
        [
         26,
         173,
         49,
         "Ana Fernandes",
         "ana.fernandes@yahoo.com",
         3,
         16.96,
         "2023-06-20",
         "Eletrônicos"
        ],
        [
         21,
         26,
         49,
         "Gabriel Rodrigues",
         "gabriel.rodrigues@yahoo.com",
         7,
         65.93,
         "2023-12-26",
         "Eletrônicos"
        ],
        [
         22,
         160,
         90,
         "Carla Lima",
         "carla.lima@yahoo.com",
         6,
         52.18,
         "2023-08-17",
         "Vestuário"
        ],
        [
         17,
         180,
         69,
         "Gabriel Santos",
         "gabriel.santos@gmail.com",
         8,
         44.46,
         "2023-09-07",
         "Vestuário"
        ],
        [
         22,
         188,
         10,
         "Ana Gomes",
         "ana.gomes@yahoo.com",
         2,
         30.95,
         "2023-11-07",
         "Vestuário"
        ],
        [
         27,
         107,
         96,
         "Maria Santos",
         "maria.santos@outlook.com",
         10,
         82.47,
         "2023-11-03",
         "Vestuário"
        ],
        [
         11,
         108,
         44,
         "Lucas Gomes",
         "lucas.gomes@outlook.com",
         10,
         87.36,
         "2023-04-05",
         "Eletrônicos"
        ],
        [
         35,
         113,
         12,
         "Carla Pereira",
         "carla.pereira@gmail.com",
         4,
         44.59,
         "2023-10-20",
         "Livros"
        ],
        [
         35,
         157,
         11,
         "Rafael Alves",
         "rafael.alves@gmail.com",
         2,
         91.91,
         "2023-05-06",
         "Livros"
        ],
        [
         20,
         199,
         37,
         "Lucas Silva",
         "lucas.silva@gmail.com",
         4,
         22.43,
         "2023-10-05",
         "Livros"
        ],
        [
         50,
         5,
         41,
         "Gabriel Oliveira",
         "gabriel.oliveira@outlook.com",
         5,
         65.08,
         "2023-04-15",
         "Livros"
        ],
        [
         7,
         30,
         37,
         "Ana Alves",
         "ana.alves@gmail.com",
         8,
         32.69,
         "2023-12-01",
         "Vestuário"
        ],
        [
         8,
         57,
         66,
         "Paula Santos",
         "paula.santos@outlook.com",
         6,
         37.02,
         "2023-09-24",
         "Alimentos"
        ],
        [
         41,
         133,
         52,
         "Julia Alves",
         "julia.alves@gmail.com",
         3,
         32.69,
         "2023-08-14",
         "Eletrônicos"
        ],
        [
         17,
         92,
         45,
         "Pedro Santos",
         "pedro.santos@gmail.com",
         7,
         58.72,
         "2023-05-04",
         "Vestuário"
        ],
        [
         9,
         194,
         33,
         "Gabriel Gomes",
         "gabriel.gomes@hotmail.com",
         4,
         38.73,
         "2023-02-03",
         "Móveis"
        ],
        [
         27,
         1,
         89,
         "Maria Pereira",
         "maria.pereira@gmail.com",
         7,
         48.41,
         "2023-07-06",
         "Vestuário"
        ],
        [
         19,
         43,
         30,
         "Ana Rodrigues",
         "ana.rodrigues@gmail.com",
         9,
         59.41,
         "2023-11-04",
         "Móveis"
        ],
        [
         22,
         31,
         92,
         "Julia Gomes",
         "julia.gomes@yahoo.com",
         10,
         84.15,
         "2023-07-10",
         "Vestuário"
        ],
        [
         20,
         42,
         7,
         "Rafael Gomes",
         "rafael.gomes@gmail.com",
         2,
         12.46,
         "2023-01-04",
         "Livros"
        ]
       ],
       "datasetInfos": [],
       "dbfsResultPath": null,
       "isJsonSchema": true,
       "metadata": {},
       "overflow": false,
       "plotOptions": {
        "customPlotOptions": {},
        "displayType": "table",
        "pivotAggregation": null,
        "pivotColumns": null,
        "xColumns": null,
        "yColumns": null
       },
       "removedWidgets": [],
       "schema": [
        {
         "metadata": "{}",
         "name": "id_produto",
         "type": "\"integer\""
        },
        {
         "metadata": "{}",
         "name": "id_venda",
         "type": "\"integer\""
        },
        {
         "metadata": "{}",
         "name": "id_comprador",
         "type": "\"integer\""
        },
        {
         "metadata": "{}",
         "name": "Nome",
         "type": "\"string\""
        },
        {
         "metadata": "{}",
         "name": "e-mail",
         "type": "\"string\""
        },
        {
         "metadata": "{}",
         "name": "quantidade",
         "type": "\"integer\""
        },
        {
         "metadata": "{}",
         "name": "valor",
         "type": "\"double\""
        },
        {
         "metadata": "{\"__detected_date_formats\":\"yyyy-M-d\"}",
         "name": "data_compra",
         "type": "\"date\""
        },
        {
         "metadata": "{}",
         "name": "categoria",
         "type": "\"string\""
        }
       ],
       "type": "table"
      }
     },
     "output_type": "display_data"
    }
   ],
   "source": [
    "# visualizando a tabela criada \n",
    "display(spark.sql(\"SELECT * FROM sales_clean\"))"
   ]
  },
  {
   "cell_type": "code",
   "execution_count": 0,
   "metadata": {
    "application/vnd.databricks.v1+cell": {
     "cellMetadata": {
      "byteLimit": 2048000,
      "rowLimit": 10000
     },
     "inputWidgets": {},
     "nuid": "1678325f-76e4-4300-910d-a3388f7022ab",
     "showTitle": false,
     "tableResultSettingsMap": {},
     "title": ""
    }
   },
   "outputs": [],
   "source": [
    "# Carregar dados da camada silver \n",
    "silver_sales_path = \"/mnt/falcaristorage/silver/sales.csv\"\n",
    "df_sales_silver = spark.read.parquet(silver_sales_path)\n",
    "\n",
    "# Converter a coluna de data (tipo string) para o tipo date\n",
    "df_sales_silver = df_sales_silver.withColumn(\"data_compra\", to_date(df_sales_silver[\"data_compra\"], \"yyyy-MM-dd\"))"
   ]
  },
  {
   "cell_type": "code",
   "execution_count": 0,
   "metadata": {
    "application/vnd.databricks.v1+cell": {
     "cellMetadata": {
      "byteLimit": 2048000,
      "rowLimit": 10000
     },
     "inputWidgets": {},
     "nuid": "c869a196-e2ef-4b73-a618-a5bee69c755f",
     "showTitle": false,
     "tableResultSettingsMap": {},
     "title": ""
    }
   },
   "outputs": [],
   "source": [
    "# Trabalhando da camada gold \n",
    "\n",
    "# Agrupando dados de vendas por mês\n",
    "df_sales_month = (\n",
    "    df_sales_silver\n",
    "    .groupBy(year(\"data_compra\").alias(\"ano\"), month(\"data_compra\").alias(\"month\"))\n",
    "    .agg(sum(\"valor\").alias(\"total_vendas\"))\n",
    "    .orderBy(\"total_vendas\", ascending=False)  # Ordena corretamente antes da formatação\n",
    ")\n",
    "\n",
    "df_sales_month = df_sales_month.withColumn(\"total_vendas\", format_number(\"total_vendas\", 2))"
   ]
  },
  {
   "cell_type": "code",
   "execution_count": 0,
   "metadata": {
    "application/vnd.databricks.v1+cell": {
     "cellMetadata": {
      "byteLimit": 2048000,
      "rowLimit": 10000
     },
     "inputWidgets": {},
     "nuid": "5a5e7305-4cd5-4bb6-a545-3f8c09d48a2a",
     "showTitle": false,
     "tableResultSettingsMap": {},
     "title": ""
    }
   },
   "outputs": [
    {
     "output_type": "stream",
     "name": "stdout",
     "output_type": "stream",
     "text": [
      "+----+-----+------------+\n| ano|month|total_vendas|\n+----+-----+------------+\n|2023|    1|    1,157.72|\n|2023|   11|    1,104.32|\n|2023|    6|    1,082.06|\n|2023|   10|    1,060.72|\n|2023|    5|    1,012.46|\n|2023|    4|      962.72|\n|2023|    9|      942.71|\n|2023|    7|      866.50|\n|2023|    8|      795.92|\n|2023|   12|      771.95|\n|2023|    2|      706.32|\n|2023|    3|      662.39|\n+----+-----+------------+\n\n"
     ]
    }
   ],
   "source": [
    "# visualizando o dataframe df_sales_month\n",
    "df_sales_month.show()   "
   ]
  },
  {
   "cell_type": "code",
   "execution_count": 0,
   "metadata": {
    "application/vnd.databricks.v1+cell": {
     "cellMetadata": {
      "byteLimit": 2048000,
      "rowLimit": 10000
     },
     "inputWidgets": {},
     "nuid": "d8704b29-8422-4119-a835-92aebff94b5d",
     "showTitle": false,
     "tableResultSettingsMap": {},
     "title": ""
    }
   },
   "outputs": [],
   "source": [
    "# Principais compradores em termos de receita\n",
    "df_main_buyers = df_sales_silver.groupBy(\"id_comprador\", \"nome\").agg(format_number(sum(\"valor\"), 2).alias(\"total_comprado\")).orderBy(\"total_comprado\", ascending=False)"
   ]
  },
  {
   "cell_type": "code",
   "execution_count": 0,
   "metadata": {
    "application/vnd.databricks.v1+cell": {
     "cellMetadata": {
      "byteLimit": 2048000,
      "rowLimit": 10000
     },
     "inputWidgets": {},
     "nuid": "0a9240b7-3044-4637-b066-7f1af144d738",
     "showTitle": false,
     "tableResultSettingsMap": {},
     "title": ""
    }
   },
   "outputs": [
    {
     "output_type": "stream",
     "name": "stdout",
     "output_type": "stream",
     "text": [
      "+------------+-----------------+--------------+\n|id_comprador|             nome|total_comprado|\n+------------+-----------------+--------------+\n|          98|  Paula Fernandes|         99.98|\n|          97|Gabriel Fernandes|         99.92|\n|          14|       Lucas Lima|         98.84|\n|          73|  Lucas Fernandes|         98.75|\n|          57|    Pedro Pereira|         97.72|\n|          37|       João Silva|         96.57|\n|           4|   Julia Oliveira|         96.54|\n|          44|   João Rodrigues|         95.95|\n|          67|      Paula Silva|         95.64|\n|           2|    Lucas Pereira|         95.43|\n|          46|   João Fernandes|         95.31|\n|          86|      Pedro Silva|         95.27|\n|          17|      Pedro Silva|         94.88|\n|           3|     Carla Santos|         94.73|\n|          84|     Ana Oliveira|         94.69|\n|          17|        Ana Souza|         93.21|\n|          64|       João Silva|         92.14|\n|          11|     Rafael Alves|         91.91|\n|          97|Gabriel Rodrigues|         91.57|\n|          52|       João Silva|         90.82|\n+------------+-----------------+--------------+\nonly showing top 20 rows\n"
     ]
    }
   ],
   "source": [
    "# visualizando o dataframe df_main_buyers\n",
    "df_main_buyers.show()"
   ]
  },
  {
   "cell_type": "code",
   "execution_count": 0,
   "metadata": {
    "application/vnd.databricks.v1+cell": {
     "cellMetadata": {
      "byteLimit": 2048000,
      "rowLimit": 10000
     },
     "inputWidgets": {},
     "nuid": "499c53d1-47e0-4cf8-922c-870ffa03cd8f",
     "showTitle": false,
     "tableResultSettingsMap": {},
     "title": ""
    }
   },
   "outputs": [],
   "source": [
    "# Salvando o resultado das agregações por mês e ano \n",
    "df_sales_month.write.format(\"delta\").mode(\"overwrite\").save(\"/mnt/falcaristorage/gold/sales_month\")\n"
   ]
  },
  {
   "cell_type": "code",
   "execution_count": 0,
   "metadata": {
    "application/vnd.databricks.v1+cell": {
     "cellMetadata": {
      "byteLimit": 2048000,
      "rowLimit": 10000
     },
     "inputWidgets": {},
     "nuid": "fcfcf7a1-87cc-4111-83ac-f5c8ea745100",
     "showTitle": false,
     "tableResultSettingsMap": {},
     "title": ""
    }
   },
   "outputs": [],
   "source": [
    "# Salvando o resutado dos pricipais compradores\n",
    "df_main_buyers.write.format(\"delta\").mode(\"overwrite\").save(\"/mnt/falcaristorage/gold/main_buyers\")"
   ]
  },
  {
   "cell_type": "code",
   "execution_count": 0,
   "metadata": {
    "application/vnd.databricks.v1+cell": {
     "cellMetadata": {
      "byteLimit": 2048000,
      "rowLimit": 10000
     },
     "inputWidgets": {},
     "nuid": "20e1bd11-f601-435c-95d8-c444d4d960dc",
     "showTitle": false,
     "tableResultSettingsMap": {},
     "title": ""
    }
   },
   "outputs": [],
   "source": [
    "# Criando Views sales_month e main_buyers para facilitar a consulta\n",
    "df_sales_month.createOrReplaceTempView(\"sales_month_view\")\n",
    "df_main_buyers.createOrReplaceTempView(\"main_buyers_view\")"
   ]
  },
  {
   "cell_type": "code",
   "execution_count": 0,
   "metadata": {
    "application/vnd.databricks.v1+cell": {
     "cellMetadata": {
      "byteLimit": 2048000,
      "implicitDf": true,
      "rowLimit": 10000
     },
     "inputWidgets": {},
     "nuid": "9be1e0e8-397d-406e-bde1-fd17c9658183",
     "showTitle": false,
     "tableResultSettingsMap": {},
     "title": ""
    }
   },
   "outputs": [
    {
     "output_type": "display_data",
     "data": {
      "text/html": [
       "<style scoped>\n",
       "  .table-result-container {\n",
       "    max-height: 300px;\n",
       "    overflow: auto;\n",
       "  }\n",
       "  table, th, td {\n",
       "    border: 1px solid black;\n",
       "    border-collapse: collapse;\n",
       "  }\n",
       "  th, td {\n",
       "    padding: 5px;\n",
       "  }\n",
       "  th {\n",
       "    text-align: left;\n",
       "  }\n",
       "</style><div class='table-result-container'><table class='table-result'><thead style='background-color: white'><tr><th>ano</th><th>month</th><th>total_vendas</th></tr></thead><tbody><tr><td>2023</td><td>1</td><td>1,157.72</td></tr><tr><td>2023</td><td>11</td><td>1,104.32</td></tr><tr><td>2023</td><td>6</td><td>1,082.06</td></tr><tr><td>2023</td><td>10</td><td>1,060.72</td></tr><tr><td>2023</td><td>5</td><td>1,012.46</td></tr><tr><td>2023</td><td>4</td><td>962.72</td></tr><tr><td>2023</td><td>9</td><td>942.71</td></tr><tr><td>2023</td><td>7</td><td>866.50</td></tr><tr><td>2023</td><td>8</td><td>795.92</td></tr><tr><td>2023</td><td>12</td><td>771.95</td></tr><tr><td>2023</td><td>2</td><td>706.32</td></tr><tr><td>2023</td><td>3</td><td>662.39</td></tr></tbody></table></div>"
      ]
     },
     "metadata": {
      "application/vnd.databricks.v1+output": {
       "addedWidgets": {},
       "aggData": [],
       "aggError": "",
       "aggOverflow": false,
       "aggSchema": [],
       "aggSeriesLimitReached": false,
       "aggType": "",
       "arguments": {},
       "columnCustomDisplayInfos": {},
       "data": [
        [
         2023,
         1,
         "1,157.72"
        ],
        [
         2023,
         11,
         "1,104.32"
        ],
        [
         2023,
         6,
         "1,082.06"
        ],
        [
         2023,
         10,
         "1,060.72"
        ],
        [
         2023,
         5,
         "1,012.46"
        ],
        [
         2023,
         4,
         "962.72"
        ],
        [
         2023,
         9,
         "942.71"
        ],
        [
         2023,
         7,
         "866.50"
        ],
        [
         2023,
         8,
         "795.92"
        ],
        [
         2023,
         12,
         "771.95"
        ],
        [
         2023,
         2,
         "706.32"
        ],
        [
         2023,
         3,
         "662.39"
        ]
       ],
       "datasetInfos": [],
       "dbfsResultPath": null,
       "isJsonSchema": true,
       "metadata": {
        "createTempViewForImplicitDf": true,
        "dataframeName": "_sqldf",
        "executionCount": 51
       },
       "overflow": false,
       "plotOptions": {
        "customPlotOptions": {},
        "displayType": "table",
        "pivotAggregation": null,
        "pivotColumns": null,
        "xColumns": null,
        "yColumns": null
       },
       "removedWidgets": [],
       "schema": [
        {
         "metadata": "{}",
         "name": "ano",
         "type": "\"integer\""
        },
        {
         "metadata": "{}",
         "name": "month",
         "type": "\"integer\""
        },
        {
         "metadata": "{}",
         "name": "total_vendas",
         "type": "\"string\""
        }
       ],
       "type": "table"
      }
     },
     "output_type": "display_data"
    }
   ],
   "source": [
    "%sql\n",
    "SELECT * FROM sales_month_view"
   ]
  },
  {
   "cell_type": "code",
   "execution_count": 0,
   "metadata": {
    "application/vnd.databricks.v1+cell": {
     "cellMetadata": {
      "byteLimit": 2048000,
      "implicitDf": true,
      "rowLimit": 10000
     },
     "inputWidgets": {},
     "nuid": "b073cae2-1638-4531-a52c-fa7bf969cd12",
     "showTitle": false,
     "tableResultSettingsMap": {},
     "title": ""
    }
   },
   "outputs": [
    {
     "output_type": "display_data",
     "data": {
      "text/html": [
       "<style scoped>\n",
       "  .table-result-container {\n",
       "    max-height: 300px;\n",
       "    overflow: auto;\n",
       "  }\n",
       "  table, th, td {\n",
       "    border: 1px solid black;\n",
       "    border-collapse: collapse;\n",
       "  }\n",
       "  th, td {\n",
       "    padding: 5px;\n",
       "  }\n",
       "  th {\n",
       "    text-align: left;\n",
       "  }\n",
       "</style><div class='table-result-container'><table class='table-result'><thead style='background-color: white'><tr><th>id_comprador</th><th>nome</th><th>total_comprado</th></tr></thead><tbody><tr><td>98</td><td>Paula Fernandes</td><td>99.98</td></tr><tr><td>97</td><td>Gabriel Fernandes</td><td>99.92</td></tr><tr><td>14</td><td>Lucas Lima</td><td>98.84</td></tr><tr><td>73</td><td>Lucas Fernandes</td><td>98.75</td></tr><tr><td>57</td><td>Pedro Pereira</td><td>97.72</td></tr><tr><td>37</td><td>João Silva</td><td>96.57</td></tr><tr><td>4</td><td>Julia Oliveira</td><td>96.54</td></tr><tr><td>44</td><td>João Rodrigues</td><td>95.95</td></tr><tr><td>67</td><td>Paula Silva</td><td>95.64</td></tr><tr><td>2</td><td>Lucas Pereira</td><td>95.43</td></tr><tr><td>46</td><td>João Fernandes</td><td>95.31</td></tr><tr><td>86</td><td>Pedro Silva</td><td>95.27</td></tr><tr><td>17</td><td>Pedro Silva</td><td>94.88</td></tr><tr><td>3</td><td>Carla Santos</td><td>94.73</td></tr><tr><td>84</td><td>Ana Oliveira</td><td>94.69</td></tr><tr><td>17</td><td>Ana Souza</td><td>93.21</td></tr><tr><td>64</td><td>João Silva</td><td>92.14</td></tr><tr><td>11</td><td>Rafael Alves</td><td>91.91</td></tr><tr><td>97</td><td>Gabriel Rodrigues</td><td>91.57</td></tr><tr><td>52</td><td>João Silva</td><td>90.82</td></tr><tr><td>39</td><td>Gabriel Gomes</td><td>90.53</td></tr><tr><td>71</td><td>Lucas Alves</td><td>90.48</td></tr><tr><td>85</td><td>João Lima</td><td>90.39</td></tr><tr><td>60</td><td>Maria Souza</td><td>90.21</td></tr><tr><td>49</td><td>Paula Souza</td><td>88.78</td></tr><tr><td>8</td><td>Ana Pereira</td><td>88.44</td></tr><tr><td>94</td><td>Carla Rodrigues</td><td>87.40</td></tr><tr><td>44</td><td>Lucas Gomes</td><td>87.36</td></tr><tr><td>82</td><td>Julia Gomes</td><td>86.32</td></tr><tr><td>79</td><td>Rafael Pereira</td><td>85.67</td></tr><tr><td>97</td><td>João Lima</td><td>85.55</td></tr><tr><td>19</td><td>Paula Rodrigues</td><td>85.40</td></tr><tr><td>63</td><td>Gabriel Gomes</td><td>84.75</td></tr><tr><td>62</td><td>Gabriel Silva</td><td>84.65</td></tr><tr><td>92</td><td>Julia Gomes</td><td>84.15</td></tr><tr><td>29</td><td>João Gomes</td><td>83.50</td></tr><tr><td>43</td><td>Ana Alves</td><td>82.98</td></tr><tr><td>96</td><td>Maria Santos</td><td>82.47</td></tr><tr><td>93</td><td>Ana Pereira</td><td>82.16</td></tr><tr><td>5</td><td>Paula Pereira</td><td>81.66</td></tr><tr><td>2</td><td>Lucas Oliveira</td><td>81.28</td></tr><tr><td>11</td><td>João Oliveira</td><td>80.28</td></tr><tr><td>25</td><td>Lucas Oliveira</td><td>79.99</td></tr><tr><td>6</td><td>Julia Alves</td><td>79.81</td></tr><tr><td>13</td><td>Maria Santos</td><td>79.79</td></tr><tr><td>41</td><td>João Alves</td><td>79.29</td></tr><tr><td>95</td><td>João Alves</td><td>79.25</td></tr><tr><td>3</td><td>Maria Rodrigues</td><td>78.48</td></tr><tr><td>8</td><td>Lucas Fernandes</td><td>78.39</td></tr><tr><td>44</td><td>Paula Santos</td><td>78.01</td></tr><tr><td>54</td><td>Maria Pereira</td><td>77.67</td></tr><tr><td>83</td><td>Julia Fernandes</td><td>75.75</td></tr><tr><td>43</td><td>Rafael Fernandes</td><td>75.02</td></tr><tr><td>55</td><td>João Silva</td><td>74.88</td></tr><tr><td>98</td><td>Pedro Souza</td><td>74.79</td></tr><tr><td>54</td><td>Carla Gomes</td><td>74.55</td></tr><tr><td>44</td><td>João Santos</td><td>74.07</td></tr><tr><td>25</td><td>Julia Alves</td><td>73.83</td></tr><tr><td>33</td><td>Lucas Santos</td><td>73.32</td></tr><tr><td>13</td><td>Julia Lima</td><td>73.30</td></tr><tr><td>34</td><td>João Pereira</td><td>71.53</td></tr><tr><td>7</td><td>Maria Fernandes</td><td>71.33</td></tr><tr><td>89</td><td>Paula Pereira</td><td>70.73</td></tr><tr><td>66</td><td>Carla Alves</td><td>70.47</td></tr><tr><td>12</td><td>Julia Santos</td><td>69.89</td></tr><tr><td>83</td><td>Paula Lima</td><td>69.88</td></tr><tr><td>2</td><td>Ana Lima</td><td>69.46</td></tr><tr><td>13</td><td>Gabriel Fernandes</td><td>69.34</td></tr><tr><td>49</td><td>Julia Pereira</td><td>69.00</td></tr><tr><td>35</td><td>Carla Souza</td><td>68.62</td></tr><tr><td>48</td><td>Julia Lima</td><td>67.79</td></tr><tr><td>12</td><td>Julia Oliveira</td><td>67.78</td></tr><tr><td>9</td><td>Julia Alves</td><td>67.71</td></tr><tr><td>63</td><td>João Santos</td><td>67.45</td></tr><tr><td>41</td><td>Rafael Alves</td><td>67.29</td></tr><tr><td>49</td><td>Pedro Lima</td><td>67.21</td></tr><tr><td>33</td><td>Ana Souza</td><td>67.12</td></tr><tr><td>51</td><td>Rafael Pereira</td><td>66.94</td></tr><tr><td>49</td><td>Julia Silva</td><td>66.36</td></tr><tr><td>49</td><td>Gabriel Rodrigues</td><td>65.93</td></tr><tr><td>38</td><td>Maria Silva</td><td>65.24</td></tr><tr><td>97</td><td>Pedro Santos</td><td>65.21</td></tr><tr><td>41</td><td>Gabriel Oliveira</td><td>65.08</td></tr><tr><td>73</td><td>Carla Lima</td><td>64.81</td></tr><tr><td>57</td><td>Maria Pereira</td><td>64.33</td></tr><tr><td>4</td><td>Rafael Souza</td><td>64.23</td></tr><tr><td>28</td><td>Paula Gomes</td><td>63.40</td></tr><tr><td>14</td><td>Maria Alves</td><td>61.86</td></tr><tr><td>78</td><td>Pedro Santos</td><td>60.75</td></tr><tr><td>21</td><td>Julia Pereira</td><td>59.85</td></tr><tr><td>98</td><td>Carla Fernandes</td><td>59.79</td></tr><tr><td>92</td><td>Ana Oliveira</td><td>59.59</td></tr><tr><td>30</td><td>Ana Rodrigues</td><td>59.41</td></tr><tr><td>96</td><td>Lucas Silva</td><td>59.34</td></tr><tr><td>17</td><td>Lucas Oliveira</td><td>58.93</td></tr><tr><td>75</td><td>Paula Oliveira</td><td>58.74</td></tr><tr><td>45</td><td>Pedro Santos</td><td>58.72</td></tr><tr><td>28</td><td>Gabriel Fernandes</td><td>58.41</td></tr><tr><td>80</td><td>Carla Souza</td><td>58.33</td></tr><tr><td>88</td><td>Maria Santos</td><td>58.01</td></tr><tr><td>92</td><td>Julia Rodrigues</td><td>56.79</td></tr><tr><td>65</td><td>Lucas Gomes</td><td>54.90</td></tr><tr><td>42</td><td>João Gomes</td><td>53.91</td></tr><tr><td>13</td><td>Lucas Alves</td><td>53.79</td></tr><tr><td>86</td><td>Rafael Alves</td><td>53.18</td></tr><tr><td>21</td><td>Gabriel Gomes</td><td>52.94</td></tr><tr><td>50</td><td>Maria Alves</td><td>52.34</td></tr><tr><td>90</td><td>Carla Lima</td><td>52.18</td></tr><tr><td>57</td><td>Pedro Oliveira</td><td>51.93</td></tr><tr><td>89</td><td>Gabriel Santos</td><td>51.62</td></tr><tr><td>20</td><td>Maria Silva</td><td>51.19</td></tr><tr><td>12</td><td>João Pereira</td><td>50.16</td></tr><tr><td>99</td><td>Rafael Oliveira</td><td>50.04</td></tr><tr><td>53</td><td>Rafael Alves</td><td>49.39</td></tr><tr><td>89</td><td>Maria Pereira</td><td>48.41</td></tr><tr><td>27</td><td>Maria Pereira</td><td>47.74</td></tr><tr><td>81</td><td>João Alves</td><td>47.15</td></tr><tr><td>77</td><td>Ana Santos</td><td>46.92</td></tr><tr><td>13</td><td>Rafael Lima</td><td>46.64</td></tr><tr><td>97</td><td>Gabriel Souza</td><td>46.58</td></tr><tr><td>42</td><td>Carla Rodrigues</td><td>46.45</td></tr><tr><td>12</td><td>Maria Fernandes</td><td>45.53</td></tr><tr><td>6</td><td>Rafael Oliveira</td><td>44.75</td></tr><tr><td>93</td><td>Rafael Souza</td><td>44.71</td></tr><tr><td>12</td><td>Carla Pereira</td><td>44.59</td></tr><tr><td>69</td><td>Gabriel Santos</td><td>44.46</td></tr><tr><td>5</td><td>Rafael Santos</td><td>44.27</td></tr><tr><td>47</td><td>Pedro Souza</td><td>43.19</td></tr><tr><td>75</td><td>Rafael Silva</td><td>42.69</td></tr><tr><td>99</td><td>João Gomes</td><td>42.48</td></tr><tr><td>45</td><td>Gabriel Souza</td><td>42.30</td></tr><tr><td>35</td><td>Rafael Silva</td><td>42.06</td></tr><tr><td>46</td><td>Paula Rodrigues</td><td>41.89</td></tr><tr><td>24</td><td>Gabriel Santos</td><td>41.78</td></tr><tr><td>92</td><td>Pedro Gomes</td><td>41.69</td></tr><tr><td>10</td><td>Maria Alves</td><td>41.46</td></tr><tr><td>83</td><td>Maria Pereira</td><td>41.40</td></tr><tr><td>59</td><td>Pedro Gomes</td><td>40.97</td></tr><tr><td>96</td><td>Rafael Gomes</td><td>40.81</td></tr><tr><td>24</td><td>Gabriel Oliveira</td><td>40.64</td></tr><tr><td>36</td><td>Gabriel Silva</td><td>40.21</td></tr><tr><td>72</td><td>Julia Souza</td><td>39.70</td></tr><tr><td>70</td><td>Gabriel Fernandes</td><td>39.62</td></tr><tr><td>33</td><td>Gabriel Gomes</td><td>38.73</td></tr><tr><td>57</td><td>Julia Lima</td><td>38.46</td></tr><tr><td>25</td><td>Rafael Fernandes</td><td>38.27</td></tr><tr><td>74</td><td>João Silva</td><td>37.09</td></tr><tr><td>66</td><td>Paula Santos</td><td>37.02</td></tr><tr><td>70</td><td>Carla Rodrigues</td><td>36.43</td></tr><tr><td>85</td><td>Lucas Santos</td><td>36.25</td></tr><tr><td>40</td><td>Lucas Santos</td><td>35.26</td></tr><tr><td>22</td><td>Carla Pereira</td><td>33.77</td></tr><tr><td>31</td><td>Pedro Silva</td><td>33.41</td></tr><tr><td>37</td><td>Ana Alves</td><td>32.69</td></tr><tr><td>93</td><td>Pedro Gomes</td><td>32.69</td></tr><tr><td>52</td><td>Julia Alves</td><td>32.69</td></tr><tr><td>12</td><td>Maria Silva</td><td>32.52</td></tr><tr><td>68</td><td>Gabriel Pereira</td><td>32.15</td></tr><tr><td>72</td><td>Gabriel Fernandes</td><td>31.15</td></tr><tr><td>79</td><td>Julia Gomes</td><td>31.09</td></tr><tr><td>10</td><td>Ana Gomes</td><td>30.95</td></tr><tr><td>28</td><td>Carla Fernandes</td><td>29.77</td></tr><tr><td>21</td><td>Gabriel Santos</td><td>29.64</td></tr><tr><td>95</td><td>Gabriel Pereira</td><td>29.56</td></tr><tr><td>47</td><td>Pedro Lima</td><td>28.57</td></tr><tr><td>36</td><td>Lucas Pereira</td><td>26.56</td></tr><tr><td>25</td><td>Rafael Santos</td><td>26.43</td></tr><tr><td>62</td><td>Pedro Gomes</td><td>25.40</td></tr><tr><td>34</td><td>João Santos</td><td>24.44</td></tr><tr><td>4</td><td>Rafael Pereira</td><td>24.26</td></tr><tr><td>54</td><td>Maria Santos</td><td>23.64</td></tr><tr><td>37</td><td>Lucas Silva</td><td>22.43</td></tr><tr><td>21</td><td>João Rodrigues</td><td>21.90</td></tr><tr><td>11</td><td>Pedro Alves</td><td>21.86</td></tr><tr><td>15</td><td>Gabriel Fernandes</td><td>21.66</td></tr><tr><td>83</td><td>Maria Lima</td><td>21.20</td></tr><tr><td>45</td><td>Pedro Lima</td><td>20.83</td></tr><tr><td>20</td><td>João Rodrigues</td><td>20.14</td></tr><tr><td>33</td><td>Rafael Santos</td><td>19.21</td></tr><tr><td>34</td><td>Pedro Silva</td><td>18.37</td></tr><tr><td>84</td><td>Carla Lima</td><td>17.79</td></tr><tr><td>54</td><td>Pedro Rodrigues</td><td>17.19</td></tr><tr><td>73</td><td>Lucas Rodrigues</td><td>17.02</td></tr><tr><td>49</td><td>Ana Fernandes</td><td>16.96</td></tr><tr><td>39</td><td>Ana Alves</td><td>16.39</td></tr><tr><td>59</td><td>Pedro Lima</td><td>16.04</td></tr><tr><td>16</td><td>Pedro Pereira</td><td>15.61</td></tr><tr><td>41</td><td>Ana Gomes</td><td>15.21</td></tr><tr><td>46</td><td>Lucas Lima</td><td>14.94</td></tr><tr><td>19</td><td>Paula Oliveira</td><td>14.62</td></tr><tr><td>8</td><td>Julia Souza</td><td>14.37</td></tr><tr><td>87</td><td>Maria Alves</td><td>13.03</td></tr><tr><td>80</td><td>Paula Souza</td><td>12.69</td></tr><tr><td>70</td><td>Rafael Santos</td><td>12.59</td></tr><tr><td>7</td><td>Rafael Gomes</td><td>12.46</td></tr><tr><td>54</td><td>Gabriel Gomes</td><td>12.45</td></tr><tr><td>38</td><td>Julia Santos</td><td>11.51</td></tr><tr><td>91</td><td>Gabriel Gomes</td><td>11.40</td></tr><tr><td>41</td><td>Rafael Fernandes</td><td>10.76</td></tr><tr><td>23</td><td>Pedro Fernandes</td><td>10.49</td></tr></tbody></table></div>"
      ]
     },
     "metadata": {
      "application/vnd.databricks.v1+output": {
       "addedWidgets": {},
       "aggData": [],
       "aggError": "",
       "aggOverflow": false,
       "aggSchema": [],
       "aggSeriesLimitReached": false,
       "aggType": "",
       "arguments": {},
       "columnCustomDisplayInfos": {},
       "data": [
        [
         98,
         "Paula Fernandes",
         "99.98"
        ],
        [
         97,
         "Gabriel Fernandes",
         "99.92"
        ],
        [
         14,
         "Lucas Lima",
         "98.84"
        ],
        [
         73,
         "Lucas Fernandes",
         "98.75"
        ],
        [
         57,
         "Pedro Pereira",
         "97.72"
        ],
        [
         37,
         "João Silva",
         "96.57"
        ],
        [
         4,
         "Julia Oliveira",
         "96.54"
        ],
        [
         44,
         "João Rodrigues",
         "95.95"
        ],
        [
         67,
         "Paula Silva",
         "95.64"
        ],
        [
         2,
         "Lucas Pereira",
         "95.43"
        ],
        [
         46,
         "João Fernandes",
         "95.31"
        ],
        [
         86,
         "Pedro Silva",
         "95.27"
        ],
        [
         17,
         "Pedro Silva",
         "94.88"
        ],
        [
         3,
         "Carla Santos",
         "94.73"
        ],
        [
         84,
         "Ana Oliveira",
         "94.69"
        ],
        [
         17,
         "Ana Souza",
         "93.21"
        ],
        [
         64,
         "João Silva",
         "92.14"
        ],
        [
         11,
         "Rafael Alves",
         "91.91"
        ],
        [
         97,
         "Gabriel Rodrigues",
         "91.57"
        ],
        [
         52,
         "João Silva",
         "90.82"
        ],
        [
         39,
         "Gabriel Gomes",
         "90.53"
        ],
        [
         71,
         "Lucas Alves",
         "90.48"
        ],
        [
         85,
         "João Lima",
         "90.39"
        ],
        [
         60,
         "Maria Souza",
         "90.21"
        ],
        [
         49,
         "Paula Souza",
         "88.78"
        ],
        [
         8,
         "Ana Pereira",
         "88.44"
        ],
        [
         94,
         "Carla Rodrigues",
         "87.40"
        ],
        [
         44,
         "Lucas Gomes",
         "87.36"
        ],
        [
         82,
         "Julia Gomes",
         "86.32"
        ],
        [
         79,
         "Rafael Pereira",
         "85.67"
        ],
        [
         97,
         "João Lima",
         "85.55"
        ],
        [
         19,
         "Paula Rodrigues",
         "85.40"
        ],
        [
         63,
         "Gabriel Gomes",
         "84.75"
        ],
        [
         62,
         "Gabriel Silva",
         "84.65"
        ],
        [
         92,
         "Julia Gomes",
         "84.15"
        ],
        [
         29,
         "João Gomes",
         "83.50"
        ],
        [
         43,
         "Ana Alves",
         "82.98"
        ],
        [
         96,
         "Maria Santos",
         "82.47"
        ],
        [
         93,
         "Ana Pereira",
         "82.16"
        ],
        [
         5,
         "Paula Pereira",
         "81.66"
        ],
        [
         2,
         "Lucas Oliveira",
         "81.28"
        ],
        [
         11,
         "João Oliveira",
         "80.28"
        ],
        [
         25,
         "Lucas Oliveira",
         "79.99"
        ],
        [
         6,
         "Julia Alves",
         "79.81"
        ],
        [
         13,
         "Maria Santos",
         "79.79"
        ],
        [
         41,
         "João Alves",
         "79.29"
        ],
        [
         95,
         "João Alves",
         "79.25"
        ],
        [
         3,
         "Maria Rodrigues",
         "78.48"
        ],
        [
         8,
         "Lucas Fernandes",
         "78.39"
        ],
        [
         44,
         "Paula Santos",
         "78.01"
        ],
        [
         54,
         "Maria Pereira",
         "77.67"
        ],
        [
         83,
         "Julia Fernandes",
         "75.75"
        ],
        [
         43,
         "Rafael Fernandes",
         "75.02"
        ],
        [
         55,
         "João Silva",
         "74.88"
        ],
        [
         98,
         "Pedro Souza",
         "74.79"
        ],
        [
         54,
         "Carla Gomes",
         "74.55"
        ],
        [
         44,
         "João Santos",
         "74.07"
        ],
        [
         25,
         "Julia Alves",
         "73.83"
        ],
        [
         33,
         "Lucas Santos",
         "73.32"
        ],
        [
         13,
         "Julia Lima",
         "73.30"
        ],
        [
         34,
         "João Pereira",
         "71.53"
        ],
        [
         7,
         "Maria Fernandes",
         "71.33"
        ],
        [
         89,
         "Paula Pereira",
         "70.73"
        ],
        [
         66,
         "Carla Alves",
         "70.47"
        ],
        [
         12,
         "Julia Santos",
         "69.89"
        ],
        [
         83,
         "Paula Lima",
         "69.88"
        ],
        [
         2,
         "Ana Lima",
         "69.46"
        ],
        [
         13,
         "Gabriel Fernandes",
         "69.34"
        ],
        [
         49,
         "Julia Pereira",
         "69.00"
        ],
        [
         35,
         "Carla Souza",
         "68.62"
        ],
        [
         48,
         "Julia Lima",
         "67.79"
        ],
        [
         12,
         "Julia Oliveira",
         "67.78"
        ],
        [
         9,
         "Julia Alves",
         "67.71"
        ],
        [
         63,
         "João Santos",
         "67.45"
        ],
        [
         41,
         "Rafael Alves",
         "67.29"
        ],
        [
         49,
         "Pedro Lima",
         "67.21"
        ],
        [
         33,
         "Ana Souza",
         "67.12"
        ],
        [
         51,
         "Rafael Pereira",
         "66.94"
        ],
        [
         49,
         "Julia Silva",
         "66.36"
        ],
        [
         49,
         "Gabriel Rodrigues",
         "65.93"
        ],
        [
         38,
         "Maria Silva",
         "65.24"
        ],
        [
         97,
         "Pedro Santos",
         "65.21"
        ],
        [
         41,
         "Gabriel Oliveira",
         "65.08"
        ],
        [
         73,
         "Carla Lima",
         "64.81"
        ],
        [
         57,
         "Maria Pereira",
         "64.33"
        ],
        [
         4,
         "Rafael Souza",
         "64.23"
        ],
        [
         28,
         "Paula Gomes",
         "63.40"
        ],
        [
         14,
         "Maria Alves",
         "61.86"
        ],
        [
         78,
         "Pedro Santos",
         "60.75"
        ],
        [
         21,
         "Julia Pereira",
         "59.85"
        ],
        [
         98,
         "Carla Fernandes",
         "59.79"
        ],
        [
         92,
         "Ana Oliveira",
         "59.59"
        ],
        [
         30,
         "Ana Rodrigues",
         "59.41"
        ],
        [
         96,
         "Lucas Silva",
         "59.34"
        ],
        [
         17,
         "Lucas Oliveira",
         "58.93"
        ],
        [
         75,
         "Paula Oliveira",
         "58.74"
        ],
        [
         45,
         "Pedro Santos",
         "58.72"
        ],
        [
         28,
         "Gabriel Fernandes",
         "58.41"
        ],
        [
         80,
         "Carla Souza",
         "58.33"
        ],
        [
         88,
         "Maria Santos",
         "58.01"
        ],
        [
         92,
         "Julia Rodrigues",
         "56.79"
        ],
        [
         65,
         "Lucas Gomes",
         "54.90"
        ],
        [
         42,
         "João Gomes",
         "53.91"
        ],
        [
         13,
         "Lucas Alves",
         "53.79"
        ],
        [
         86,
         "Rafael Alves",
         "53.18"
        ],
        [
         21,
         "Gabriel Gomes",
         "52.94"
        ],
        [
         50,
         "Maria Alves",
         "52.34"
        ],
        [
         90,
         "Carla Lima",
         "52.18"
        ],
        [
         57,
         "Pedro Oliveira",
         "51.93"
        ],
        [
         89,
         "Gabriel Santos",
         "51.62"
        ],
        [
         20,
         "Maria Silva",
         "51.19"
        ],
        [
         12,
         "João Pereira",
         "50.16"
        ],
        [
         99,
         "Rafael Oliveira",
         "50.04"
        ],
        [
         53,
         "Rafael Alves",
         "49.39"
        ],
        [
         89,
         "Maria Pereira",
         "48.41"
        ],
        [
         27,
         "Maria Pereira",
         "47.74"
        ],
        [
         81,
         "João Alves",
         "47.15"
        ],
        [
         77,
         "Ana Santos",
         "46.92"
        ],
        [
         13,
         "Rafael Lima",
         "46.64"
        ],
        [
         97,
         "Gabriel Souza",
         "46.58"
        ],
        [
         42,
         "Carla Rodrigues",
         "46.45"
        ],
        [
         12,
         "Maria Fernandes",
         "45.53"
        ],
        [
         6,
         "Rafael Oliveira",
         "44.75"
        ],
        [
         93,
         "Rafael Souza",
         "44.71"
        ],
        [
         12,
         "Carla Pereira",
         "44.59"
        ],
        [
         69,
         "Gabriel Santos",
         "44.46"
        ],
        [
         5,
         "Rafael Santos",
         "44.27"
        ],
        [
         47,
         "Pedro Souza",
         "43.19"
        ],
        [
         75,
         "Rafael Silva",
         "42.69"
        ],
        [
         99,
         "João Gomes",
         "42.48"
        ],
        [
         45,
         "Gabriel Souza",
         "42.30"
        ],
        [
         35,
         "Rafael Silva",
         "42.06"
        ],
        [
         46,
         "Paula Rodrigues",
         "41.89"
        ],
        [
         24,
         "Gabriel Santos",
         "41.78"
        ],
        [
         92,
         "Pedro Gomes",
         "41.69"
        ],
        [
         10,
         "Maria Alves",
         "41.46"
        ],
        [
         83,
         "Maria Pereira",
         "41.40"
        ],
        [
         59,
         "Pedro Gomes",
         "40.97"
        ],
        [
         96,
         "Rafael Gomes",
         "40.81"
        ],
        [
         24,
         "Gabriel Oliveira",
         "40.64"
        ],
        [
         36,
         "Gabriel Silva",
         "40.21"
        ],
        [
         72,
         "Julia Souza",
         "39.70"
        ],
        [
         70,
         "Gabriel Fernandes",
         "39.62"
        ],
        [
         33,
         "Gabriel Gomes",
         "38.73"
        ],
        [
         57,
         "Julia Lima",
         "38.46"
        ],
        [
         25,
         "Rafael Fernandes",
         "38.27"
        ],
        [
         74,
         "João Silva",
         "37.09"
        ],
        [
         66,
         "Paula Santos",
         "37.02"
        ],
        [
         70,
         "Carla Rodrigues",
         "36.43"
        ],
        [
         85,
         "Lucas Santos",
         "36.25"
        ],
        [
         40,
         "Lucas Santos",
         "35.26"
        ],
        [
         22,
         "Carla Pereira",
         "33.77"
        ],
        [
         31,
         "Pedro Silva",
         "33.41"
        ],
        [
         37,
         "Ana Alves",
         "32.69"
        ],
        [
         93,
         "Pedro Gomes",
         "32.69"
        ],
        [
         52,
         "Julia Alves",
         "32.69"
        ],
        [
         12,
         "Maria Silva",
         "32.52"
        ],
        [
         68,
         "Gabriel Pereira",
         "32.15"
        ],
        [
         72,
         "Gabriel Fernandes",
         "31.15"
        ],
        [
         79,
         "Julia Gomes",
         "31.09"
        ],
        [
         10,
         "Ana Gomes",
         "30.95"
        ],
        [
         28,
         "Carla Fernandes",
         "29.77"
        ],
        [
         21,
         "Gabriel Santos",
         "29.64"
        ],
        [
         95,
         "Gabriel Pereira",
         "29.56"
        ],
        [
         47,
         "Pedro Lima",
         "28.57"
        ],
        [
         36,
         "Lucas Pereira",
         "26.56"
        ],
        [
         25,
         "Rafael Santos",
         "26.43"
        ],
        [
         62,
         "Pedro Gomes",
         "25.40"
        ],
        [
         34,
         "João Santos",
         "24.44"
        ],
        [
         4,
         "Rafael Pereira",
         "24.26"
        ],
        [
         54,
         "Maria Santos",
         "23.64"
        ],
        [
         37,
         "Lucas Silva",
         "22.43"
        ],
        [
         21,
         "João Rodrigues",
         "21.90"
        ],
        [
         11,
         "Pedro Alves",
         "21.86"
        ],
        [
         15,
         "Gabriel Fernandes",
         "21.66"
        ],
        [
         83,
         "Maria Lima",
         "21.20"
        ],
        [
         45,
         "Pedro Lima",
         "20.83"
        ],
        [
         20,
         "João Rodrigues",
         "20.14"
        ],
        [
         33,
         "Rafael Santos",
         "19.21"
        ],
        [
         34,
         "Pedro Silva",
         "18.37"
        ],
        [
         84,
         "Carla Lima",
         "17.79"
        ],
        [
         54,
         "Pedro Rodrigues",
         "17.19"
        ],
        [
         73,
         "Lucas Rodrigues",
         "17.02"
        ],
        [
         49,
         "Ana Fernandes",
         "16.96"
        ],
        [
         39,
         "Ana Alves",
         "16.39"
        ],
        [
         59,
         "Pedro Lima",
         "16.04"
        ],
        [
         16,
         "Pedro Pereira",
         "15.61"
        ],
        [
         41,
         "Ana Gomes",
         "15.21"
        ],
        [
         46,
         "Lucas Lima",
         "14.94"
        ],
        [
         19,
         "Paula Oliveira",
         "14.62"
        ],
        [
         8,
         "Julia Souza",
         "14.37"
        ],
        [
         87,
         "Maria Alves",
         "13.03"
        ],
        [
         80,
         "Paula Souza",
         "12.69"
        ],
        [
         70,
         "Rafael Santos",
         "12.59"
        ],
        [
         7,
         "Rafael Gomes",
         "12.46"
        ],
        [
         54,
         "Gabriel Gomes",
         "12.45"
        ],
        [
         38,
         "Julia Santos",
         "11.51"
        ],
        [
         91,
         "Gabriel Gomes",
         "11.40"
        ],
        [
         41,
         "Rafael Fernandes",
         "10.76"
        ],
        [
         23,
         "Pedro Fernandes",
         "10.49"
        ]
       ],
       "datasetInfos": [],
       "dbfsResultPath": null,
       "isJsonSchema": true,
       "metadata": {
        "createTempViewForImplicitDf": true,
        "dataframeName": "_sqldf",
        "executionCount": 52
       },
       "overflow": false,
       "plotOptions": {
        "customPlotOptions": {},
        "displayType": "table",
        "pivotAggregation": null,
        "pivotColumns": null,
        "xColumns": null,
        "yColumns": null
       },
       "removedWidgets": [],
       "schema": [
        {
         "metadata": "{}",
         "name": "id_comprador",
         "type": "\"integer\""
        },
        {
         "metadata": "{}",
         "name": "nome",
         "type": "\"string\""
        },
        {
         "metadata": "{}",
         "name": "total_comprado",
         "type": "\"string\""
        }
       ],
       "type": "table"
      }
     },
     "output_type": "display_data"
    }
   ],
   "source": [
    "%sql\n",
    "SELECT * FROM main_buyers_view"
   ]
  },
  {
   "cell_type": "code",
   "execution_count": 0,
   "metadata": {
    "application/vnd.databricks.v1+cell": {
     "cellMetadata": {
      "byteLimit": 2048000,
      "rowLimit": 10000
     },
     "inputWidgets": {},
     "nuid": "902a8c12-746a-4102-bf98-5a0d9a811f35",
     "showTitle": false,
     "tableResultSettingsMap": {},
     "title": ""
    }
   },
   "outputs": [],
   "source": [
    "# pegar as informações dos secrets\n",
    "username = dbutils.secrets.get(scope=\"SecretsAzure\", key=\"AZZURE_SQL_DB_USERNAME\")\n",
    "password = dbutils.secrets.get(scope=\"SecretsAzure\", key=\"AZZURE_SQL_DB_PASSWORD\")\n"
   ]
  },
  {
   "cell_type": "code",
   "execution_count": 0,
   "metadata": {
    "application/vnd.databricks.v1+cell": {
     "cellMetadata": {
      "byteLimit": 2048000,
      "rowLimit": 10000
     },
     "inputWidgets": {},
     "nuid": "0f5ac81b-f2fa-45cd-9841-2839ed84cf7b",
     "showTitle": false,
     "tableResultSettingsMap": {},
     "title": ""
    }
   },
   "outputs": [],
   "source": [
    "# URL de conexão com o Azure SQL Database\n",
    "url = \"jdbc:sqlserver://falcari-spark-server.database.windows.net:1433;database=falcari-database\"\n",
    "\n",
    "# Opções de conexão com o Azure SQL Database\n",
    "connection_properties = {\n",
    "    \"user\": username, \n",
    "    \"password\": password,\n",
    "    \"driver\": \"com.microsoft.sqlserver.jdbc.SQLServerDriver\"\n",
    " }"
   ]
  },
  {
   "cell_type": "code",
   "execution_count": 0,
   "metadata": {
    "application/vnd.databricks.v1+cell": {
     "cellMetadata": {
      "byteLimit": 2048000,
      "rowLimit": 10000
     },
     "inputWidgets": {},
     "nuid": "65b3456e-6747-4c6a-95dc-d0a2f01336bb",
     "showTitle": false,
     "tableResultSettingsMap": {},
     "title": ""
    }
   },
   "outputs": [],
   "source": [
    "# salvando a tabela vendas por mes e ano no banco de dados Azure SQL Database\n",
    "query = \"\"\"\n",
    "    SELECT * FROM sales_month_view\n",
    "\"\"\"\n",
    "\n",
    "result_df = spark.sql(query)\n",
    "\n",
    "result_df.write.jdbc(url, \"sales_month\", mode=\"overwrite\", properties=connection_properties)"
   ]
  },
  {
   "cell_type": "code",
   "execution_count": 0,
   "metadata": {
    "application/vnd.databricks.v1+cell": {
     "cellMetadata": {
      "byteLimit": 2048000,
      "rowLimit": 10000
     },
     "inputWidgets": {},
     "nuid": "df9cec62-2fab-4806-89e8-53110987db7b",
     "showTitle": false,
     "tableResultSettingsMap": {},
     "title": ""
    }
   },
   "outputs": [],
   "source": [
    "# salvando a tabela principais clientes no banco de dados Azure SQL Database\n",
    "query = \"\"\"\n",
    "    SELECT * FROM main_buyers_view\n",
    "\"\"\"\n",
    "\n",
    "result_df = spark.sql(query)\n",
    "\n",
    "result_df.write.jdbc(url, \"main_buyers\", mode=\"overwrite\", properties=connection_properties)"
   ]
  }
 ],
 "metadata": {
  "application/vnd.databricks.v1+notebook": {
   "computePreferences": null,
   "dashboards": [],
   "environmentMetadata": {
    "base_environment": "",
    "environment_version": "2"
   },
   "language": "python",
   "notebookMetadata": {
    "mostRecentlyExecutedCommandWithImplicitDF": {
     "commandId": 5455069183879009,
     "dataframes": [
      "_sqldf"
     ]
    },
    "pythonIndentUnit": 4
   },
   "notebookName": "Medallion Architecture",
   "widgets": {}
  },
  "language_info": {
   "name": "python"
  }
 },
 "nbformat": 4,
 "nbformat_minor": 0
}